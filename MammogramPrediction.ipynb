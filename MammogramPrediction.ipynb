{
 "cells": [
  {
   "metadata": {},
   "cell_type": "markdown",
   "source": [
    "# Mammogram Prediction\n",
    "### Predict whether a mammogram throws a benign or malign result\n",
    "Using the \"mammographic masses\" public dataset from UCI (https://archive.ics.uci.edu/ml/datasets/Mammographic+Mass)\n",
    "This data contains 961 instances of masses detected in mammograms, and contains the following attributes:\n",
    "BI-RADS assessment: 1 to 5 (ordinal)\n",
    "Age: patient's age in years (integer)\n",
    "Shape: mass shape: round=1 oval=2 lobular=3 irregular=4 (nominal)\n",
    "Margin: mass margin: circumscribed=1 microlobulated=2 obscured=3 ill-defined=4 spiculated=5 (nominal)\n",
    "Density: mass density high=1 iso=2 low=3 fat-containing=4 (ordinal)\n",
    "Severity: benign=0 or malignant=1 (binominal)\n",
    "* *BI-RADS is an assessment on the severity classification*\n",
    "*   I need to build a multi layer perceptron and train it to classify masses as benign or malignant based on its features. Data needs to be cleaned, lots of rows contain missing data, and there are many erroneous data which are outliers as well.\n",
    "* Remember that I need to normalize the data and experiment with different topologies, optimizers and hyperparameters"
   ],
   "id": "284a28350a0a62b6"
  },
  {
   "metadata": {},
   "cell_type": "markdown",
   "source": "# Preparing the Data",
   "id": "4afad8297ab81787"
  },
  {
   "metadata": {
    "ExecuteTime": {
     "end_time": "2024-05-02T18:12:17.783666Z",
     "start_time": "2024-05-02T18:12:16.271444Z"
    }
   },
   "cell_type": "code",
   "source": [
    "# Importing the data and parse it into a Panda's Dataframe. Data is `mammographic_masses.data.txt`\n",
    "import pandas as pd\n",
    "\n",
    "masses_data = pd.read_csv(\"mammographic_masses.data\")\n",
    "masses_data.head()"
   ],
   "id": "10cbbfc4ea4cc601",
   "outputs": [
    {
     "data": {
      "text/plain": [
       "   5  67  3 5.1 3.1  1\n",
       "0  4  43  1   1   ?  1\n",
       "1  5  58  4   5   3  1\n",
       "2  4  28  1   1   3  0\n",
       "3  5  74  1   5   ?  1\n",
       "4  4  65  1   ?   3  0"
      ],
      "text/html": [
       "<div>\n",
       "<style scoped>\n",
       "    .dataframe tbody tr th:only-of-type {\n",
       "        vertical-align: middle;\n",
       "    }\n",
       "\n",
       "    .dataframe tbody tr th {\n",
       "        vertical-align: top;\n",
       "    }\n",
       "\n",
       "    .dataframe thead th {\n",
       "        text-align: right;\n",
       "    }\n",
       "</style>\n",
       "<table border=\"1\" class=\"dataframe\">\n",
       "  <thead>\n",
       "    <tr style=\"text-align: right;\">\n",
       "      <th></th>\n",
       "      <th>5</th>\n",
       "      <th>67</th>\n",
       "      <th>3</th>\n",
       "      <th>5.1</th>\n",
       "      <th>3.1</th>\n",
       "      <th>1</th>\n",
       "    </tr>\n",
       "  </thead>\n",
       "  <tbody>\n",
       "    <tr>\n",
       "      <th>0</th>\n",
       "      <td>4</td>\n",
       "      <td>43</td>\n",
       "      <td>1</td>\n",
       "      <td>1</td>\n",
       "      <td>?</td>\n",
       "      <td>1</td>\n",
       "    </tr>\n",
       "    <tr>\n",
       "      <th>1</th>\n",
       "      <td>5</td>\n",
       "      <td>58</td>\n",
       "      <td>4</td>\n",
       "      <td>5</td>\n",
       "      <td>3</td>\n",
       "      <td>1</td>\n",
       "    </tr>\n",
       "    <tr>\n",
       "      <th>2</th>\n",
       "      <td>4</td>\n",
       "      <td>28</td>\n",
       "      <td>1</td>\n",
       "      <td>1</td>\n",
       "      <td>3</td>\n",
       "      <td>0</td>\n",
       "    </tr>\n",
       "    <tr>\n",
       "      <th>3</th>\n",
       "      <td>5</td>\n",
       "      <td>74</td>\n",
       "      <td>1</td>\n",
       "      <td>5</td>\n",
       "      <td>?</td>\n",
       "      <td>1</td>\n",
       "    </tr>\n",
       "    <tr>\n",
       "      <th>4</th>\n",
       "      <td>4</td>\n",
       "      <td>65</td>\n",
       "      <td>1</td>\n",
       "      <td>?</td>\n",
       "      <td>3</td>\n",
       "      <td>0</td>\n",
       "    </tr>\n",
       "  </tbody>\n",
       "</table>\n",
       "</div>"
      ]
     },
     "execution_count": 2,
     "metadata": {},
     "output_type": "execute_result"
    }
   ],
   "execution_count": 2
  },
  {
   "metadata": {
    "ExecuteTime": {
     "end_time": "2024-05-02T18:12:17.800251Z",
     "start_time": "2024-05-02T18:12:17.785715Z"
    }
   },
   "cell_type": "code",
   "source": [
    "# Improving the data and its visualization\n",
    "masses_data = pd.read_csv(\"mammographic_masses.data\", na_values=[\"?\"],\n",
    "                          names=['BI-RADS', 'age', 'shape', 'margin', 'density', 'severity'])\n",
    "masses_data.head()"
   ],
   "id": "29f7a43affea746a",
   "outputs": [
    {
     "data": {
      "text/plain": [
       "   BI-RADS   age  shape  margin  density  severity\n",
       "0      5.0  67.0    3.0     5.0      3.0         1\n",
       "1      4.0  43.0    1.0     1.0      NaN         1\n",
       "2      5.0  58.0    4.0     5.0      3.0         1\n",
       "3      4.0  28.0    1.0     1.0      3.0         0\n",
       "4      5.0  74.0    1.0     5.0      NaN         1"
      ],
      "text/html": [
       "<div>\n",
       "<style scoped>\n",
       "    .dataframe tbody tr th:only-of-type {\n",
       "        vertical-align: middle;\n",
       "    }\n",
       "\n",
       "    .dataframe tbody tr th {\n",
       "        vertical-align: top;\n",
       "    }\n",
       "\n",
       "    .dataframe thead th {\n",
       "        text-align: right;\n",
       "    }\n",
       "</style>\n",
       "<table border=\"1\" class=\"dataframe\">\n",
       "  <thead>\n",
       "    <tr style=\"text-align: right;\">\n",
       "      <th></th>\n",
       "      <th>BI-RADS</th>\n",
       "      <th>age</th>\n",
       "      <th>shape</th>\n",
       "      <th>margin</th>\n",
       "      <th>density</th>\n",
       "      <th>severity</th>\n",
       "    </tr>\n",
       "  </thead>\n",
       "  <tbody>\n",
       "    <tr>\n",
       "      <th>0</th>\n",
       "      <td>5.0</td>\n",
       "      <td>67.0</td>\n",
       "      <td>3.0</td>\n",
       "      <td>5.0</td>\n",
       "      <td>3.0</td>\n",
       "      <td>1</td>\n",
       "    </tr>\n",
       "    <tr>\n",
       "      <th>1</th>\n",
       "      <td>4.0</td>\n",
       "      <td>43.0</td>\n",
       "      <td>1.0</td>\n",
       "      <td>1.0</td>\n",
       "      <td>NaN</td>\n",
       "      <td>1</td>\n",
       "    </tr>\n",
       "    <tr>\n",
       "      <th>2</th>\n",
       "      <td>5.0</td>\n",
       "      <td>58.0</td>\n",
       "      <td>4.0</td>\n",
       "      <td>5.0</td>\n",
       "      <td>3.0</td>\n",
       "      <td>1</td>\n",
       "    </tr>\n",
       "    <tr>\n",
       "      <th>3</th>\n",
       "      <td>4.0</td>\n",
       "      <td>28.0</td>\n",
       "      <td>1.0</td>\n",
       "      <td>1.0</td>\n",
       "      <td>3.0</td>\n",
       "      <td>0</td>\n",
       "    </tr>\n",
       "    <tr>\n",
       "      <th>4</th>\n",
       "      <td>5.0</td>\n",
       "      <td>74.0</td>\n",
       "      <td>1.0</td>\n",
       "      <td>5.0</td>\n",
       "      <td>NaN</td>\n",
       "      <td>1</td>\n",
       "    </tr>\n",
       "  </tbody>\n",
       "</table>\n",
       "</div>"
      ]
     },
     "execution_count": 3,
     "metadata": {},
     "output_type": "execute_result"
    }
   ],
   "execution_count": 3
  },
  {
   "metadata": {
    "ExecuteTime": {
     "end_time": "2024-05-02T18:12:19.608211Z",
     "start_time": "2024-05-02T18:12:19.587694Z"
    }
   },
   "cell_type": "code",
   "source": [
    "# Now I need to evaluate if the data needs to have cleaning. Visualize the data using `describe()`\n",
    "masses_data.describe()"
   ],
   "id": "e33407eefb40e5bd",
   "outputs": [
    {
     "data": {
      "text/plain": [
       "          BI-RADS         age       shape      margin     density    severity\n",
       "count  959.000000  956.000000  930.000000  913.000000  885.000000  961.000000\n",
       "mean     4.348279   55.487448    2.721505    2.796276    2.910734    0.463059\n",
       "std      1.783031   14.480131    1.242792    1.566546    0.380444    0.498893\n",
       "min      0.000000   18.000000    1.000000    1.000000    1.000000    0.000000\n",
       "25%      4.000000   45.000000    2.000000    1.000000    3.000000    0.000000\n",
       "50%      4.000000   57.000000    3.000000    3.000000    3.000000    0.000000\n",
       "75%      5.000000   66.000000    4.000000    4.000000    3.000000    1.000000\n",
       "max     55.000000   96.000000    4.000000    5.000000    4.000000    1.000000"
      ],
      "text/html": [
       "<div>\n",
       "<style scoped>\n",
       "    .dataframe tbody tr th:only-of-type {\n",
       "        vertical-align: middle;\n",
       "    }\n",
       "\n",
       "    .dataframe tbody tr th {\n",
       "        vertical-align: top;\n",
       "    }\n",
       "\n",
       "    .dataframe thead th {\n",
       "        text-align: right;\n",
       "    }\n",
       "</style>\n",
       "<table border=\"1\" class=\"dataframe\">\n",
       "  <thead>\n",
       "    <tr style=\"text-align: right;\">\n",
       "      <th></th>\n",
       "      <th>BI-RADS</th>\n",
       "      <th>age</th>\n",
       "      <th>shape</th>\n",
       "      <th>margin</th>\n",
       "      <th>density</th>\n",
       "      <th>severity</th>\n",
       "    </tr>\n",
       "  </thead>\n",
       "  <tbody>\n",
       "    <tr>\n",
       "      <th>count</th>\n",
       "      <td>959.000000</td>\n",
       "      <td>956.000000</td>\n",
       "      <td>930.000000</td>\n",
       "      <td>913.000000</td>\n",
       "      <td>885.000000</td>\n",
       "      <td>961.000000</td>\n",
       "    </tr>\n",
       "    <tr>\n",
       "      <th>mean</th>\n",
       "      <td>4.348279</td>\n",
       "      <td>55.487448</td>\n",
       "      <td>2.721505</td>\n",
       "      <td>2.796276</td>\n",
       "      <td>2.910734</td>\n",
       "      <td>0.463059</td>\n",
       "    </tr>\n",
       "    <tr>\n",
       "      <th>std</th>\n",
       "      <td>1.783031</td>\n",
       "      <td>14.480131</td>\n",
       "      <td>1.242792</td>\n",
       "      <td>1.566546</td>\n",
       "      <td>0.380444</td>\n",
       "      <td>0.498893</td>\n",
       "    </tr>\n",
       "    <tr>\n",
       "      <th>min</th>\n",
       "      <td>0.000000</td>\n",
       "      <td>18.000000</td>\n",
       "      <td>1.000000</td>\n",
       "      <td>1.000000</td>\n",
       "      <td>1.000000</td>\n",
       "      <td>0.000000</td>\n",
       "    </tr>\n",
       "    <tr>\n",
       "      <th>25%</th>\n",
       "      <td>4.000000</td>\n",
       "      <td>45.000000</td>\n",
       "      <td>2.000000</td>\n",
       "      <td>1.000000</td>\n",
       "      <td>3.000000</td>\n",
       "      <td>0.000000</td>\n",
       "    </tr>\n",
       "    <tr>\n",
       "      <th>50%</th>\n",
       "      <td>4.000000</td>\n",
       "      <td>57.000000</td>\n",
       "      <td>3.000000</td>\n",
       "      <td>3.000000</td>\n",
       "      <td>3.000000</td>\n",
       "      <td>0.000000</td>\n",
       "    </tr>\n",
       "    <tr>\n",
       "      <th>75%</th>\n",
       "      <td>5.000000</td>\n",
       "      <td>66.000000</td>\n",
       "      <td>4.000000</td>\n",
       "      <td>4.000000</td>\n",
       "      <td>3.000000</td>\n",
       "      <td>1.000000</td>\n",
       "    </tr>\n",
       "    <tr>\n",
       "      <th>max</th>\n",
       "      <td>55.000000</td>\n",
       "      <td>96.000000</td>\n",
       "      <td>4.000000</td>\n",
       "      <td>5.000000</td>\n",
       "      <td>4.000000</td>\n",
       "      <td>1.000000</td>\n",
       "    </tr>\n",
       "  </tbody>\n",
       "</table>\n",
       "</div>"
      ]
     },
     "execution_count": 4,
     "metadata": {},
     "output_type": "execute_result"
    }
   ],
   "execution_count": 4
  },
  {
   "metadata": {},
   "cell_type": "markdown",
   "source": "*Note*: I can see that there are missing values and also is a difference in the magnitud of the values on each column, so this is something that I need to take care of",
   "id": "e15bbe21d2140dc1"
  },
  {
   "metadata": {
    "ExecuteTime": {
     "end_time": "2024-05-02T18:12:21.241428Z",
     "start_time": "2024-05-02T18:12:21.228897Z"
    }
   },
   "cell_type": "code",
   "source": [
    "# Figuring out the places where the data is missing\n",
    "masses_data.loc[\n",
    "    masses_data[\"age\"].isnull() | masses_data[\"shape\"].isnull() | masses_data[\"margin\"].isnull() | masses_data[\n",
    "        \"density\"].isnull()]"
   ],
   "id": "d31c15b7b554bb49",
   "outputs": [
    {
     "data": {
      "text/plain": [
       "     BI-RADS   age  shape  margin  density  severity\n",
       "1        4.0  43.0    1.0     1.0      NaN         1\n",
       "4        5.0  74.0    1.0     5.0      NaN         1\n",
       "5        4.0  65.0    1.0     NaN      3.0         0\n",
       "6        4.0  70.0    NaN     NaN      3.0         0\n",
       "7        5.0  42.0    1.0     NaN      3.0         0\n",
       "..       ...   ...    ...     ...      ...       ...\n",
       "778      4.0  60.0    NaN     4.0      3.0         0\n",
       "819      4.0  35.0    3.0     NaN      2.0         0\n",
       "824      6.0  40.0    NaN     3.0      4.0         1\n",
       "884      5.0   NaN    4.0     4.0      3.0         1\n",
       "923      5.0   NaN    4.0     3.0      3.0         1\n",
       "\n",
       "[130 rows x 6 columns]"
      ],
      "text/html": [
       "<div>\n",
       "<style scoped>\n",
       "    .dataframe tbody tr th:only-of-type {\n",
       "        vertical-align: middle;\n",
       "    }\n",
       "\n",
       "    .dataframe tbody tr th {\n",
       "        vertical-align: top;\n",
       "    }\n",
       "\n",
       "    .dataframe thead th {\n",
       "        text-align: right;\n",
       "    }\n",
       "</style>\n",
       "<table border=\"1\" class=\"dataframe\">\n",
       "  <thead>\n",
       "    <tr style=\"text-align: right;\">\n",
       "      <th></th>\n",
       "      <th>BI-RADS</th>\n",
       "      <th>age</th>\n",
       "      <th>shape</th>\n",
       "      <th>margin</th>\n",
       "      <th>density</th>\n",
       "      <th>severity</th>\n",
       "    </tr>\n",
       "  </thead>\n",
       "  <tbody>\n",
       "    <tr>\n",
       "      <th>1</th>\n",
       "      <td>4.0</td>\n",
       "      <td>43.0</td>\n",
       "      <td>1.0</td>\n",
       "      <td>1.0</td>\n",
       "      <td>NaN</td>\n",
       "      <td>1</td>\n",
       "    </tr>\n",
       "    <tr>\n",
       "      <th>4</th>\n",
       "      <td>5.0</td>\n",
       "      <td>74.0</td>\n",
       "      <td>1.0</td>\n",
       "      <td>5.0</td>\n",
       "      <td>NaN</td>\n",
       "      <td>1</td>\n",
       "    </tr>\n",
       "    <tr>\n",
       "      <th>5</th>\n",
       "      <td>4.0</td>\n",
       "      <td>65.0</td>\n",
       "      <td>1.0</td>\n",
       "      <td>NaN</td>\n",
       "      <td>3.0</td>\n",
       "      <td>0</td>\n",
       "    </tr>\n",
       "    <tr>\n",
       "      <th>6</th>\n",
       "      <td>4.0</td>\n",
       "      <td>70.0</td>\n",
       "      <td>NaN</td>\n",
       "      <td>NaN</td>\n",
       "      <td>3.0</td>\n",
       "      <td>0</td>\n",
       "    </tr>\n",
       "    <tr>\n",
       "      <th>7</th>\n",
       "      <td>5.0</td>\n",
       "      <td>42.0</td>\n",
       "      <td>1.0</td>\n",
       "      <td>NaN</td>\n",
       "      <td>3.0</td>\n",
       "      <td>0</td>\n",
       "    </tr>\n",
       "    <tr>\n",
       "      <th>...</th>\n",
       "      <td>...</td>\n",
       "      <td>...</td>\n",
       "      <td>...</td>\n",
       "      <td>...</td>\n",
       "      <td>...</td>\n",
       "      <td>...</td>\n",
       "    </tr>\n",
       "    <tr>\n",
       "      <th>778</th>\n",
       "      <td>4.0</td>\n",
       "      <td>60.0</td>\n",
       "      <td>NaN</td>\n",
       "      <td>4.0</td>\n",
       "      <td>3.0</td>\n",
       "      <td>0</td>\n",
       "    </tr>\n",
       "    <tr>\n",
       "      <th>819</th>\n",
       "      <td>4.0</td>\n",
       "      <td>35.0</td>\n",
       "      <td>3.0</td>\n",
       "      <td>NaN</td>\n",
       "      <td>2.0</td>\n",
       "      <td>0</td>\n",
       "    </tr>\n",
       "    <tr>\n",
       "      <th>824</th>\n",
       "      <td>6.0</td>\n",
       "      <td>40.0</td>\n",
       "      <td>NaN</td>\n",
       "      <td>3.0</td>\n",
       "      <td>4.0</td>\n",
       "      <td>1</td>\n",
       "    </tr>\n",
       "    <tr>\n",
       "      <th>884</th>\n",
       "      <td>5.0</td>\n",
       "      <td>NaN</td>\n",
       "      <td>4.0</td>\n",
       "      <td>4.0</td>\n",
       "      <td>3.0</td>\n",
       "      <td>1</td>\n",
       "    </tr>\n",
       "    <tr>\n",
       "      <th>923</th>\n",
       "      <td>5.0</td>\n",
       "      <td>NaN</td>\n",
       "      <td>4.0</td>\n",
       "      <td>3.0</td>\n",
       "      <td>3.0</td>\n",
       "      <td>1</td>\n",
       "    </tr>\n",
       "  </tbody>\n",
       "</table>\n",
       "<p>130 rows × 6 columns</p>\n",
       "</div>"
      ]
     },
     "execution_count": 5,
     "metadata": {},
     "output_type": "execute_result"
    }
   ],
   "execution_count": 5
  },
  {
   "metadata": {
    "ExecuteTime": {
     "end_time": "2024-05-02T18:12:21.994752Z",
     "start_time": "2024-05-02T18:12:21.974267Z"
    }
   },
   "cell_type": "code",
   "source": [
    "# Dropping the rows with missing data\n",
    "masses_data.dropna(inplace=True)\n",
    "masses_data.describe()"
   ],
   "id": "5efbe761e8df7058",
   "outputs": [
    {
     "data": {
      "text/plain": [
       "          BI-RADS         age       shape      margin     density    severity\n",
       "count  830.000000  830.000000  830.000000  830.000000  830.000000  830.000000\n",
       "mean     4.393976   55.781928    2.781928    2.813253    2.915663    0.485542\n",
       "std      1.888371   14.671782    1.242361    1.567175    0.350936    0.500092\n",
       "min      0.000000   18.000000    1.000000    1.000000    1.000000    0.000000\n",
       "25%      4.000000   46.000000    2.000000    1.000000    3.000000    0.000000\n",
       "50%      4.000000   57.000000    3.000000    3.000000    3.000000    0.000000\n",
       "75%      5.000000   66.000000    4.000000    4.000000    3.000000    1.000000\n",
       "max     55.000000   96.000000    4.000000    5.000000    4.000000    1.000000"
      ],
      "text/html": [
       "<div>\n",
       "<style scoped>\n",
       "    .dataframe tbody tr th:only-of-type {\n",
       "        vertical-align: middle;\n",
       "    }\n",
       "\n",
       "    .dataframe tbody tr th {\n",
       "        vertical-align: top;\n",
       "    }\n",
       "\n",
       "    .dataframe thead th {\n",
       "        text-align: right;\n",
       "    }\n",
       "</style>\n",
       "<table border=\"1\" class=\"dataframe\">\n",
       "  <thead>\n",
       "    <tr style=\"text-align: right;\">\n",
       "      <th></th>\n",
       "      <th>BI-RADS</th>\n",
       "      <th>age</th>\n",
       "      <th>shape</th>\n",
       "      <th>margin</th>\n",
       "      <th>density</th>\n",
       "      <th>severity</th>\n",
       "    </tr>\n",
       "  </thead>\n",
       "  <tbody>\n",
       "    <tr>\n",
       "      <th>count</th>\n",
       "      <td>830.000000</td>\n",
       "      <td>830.000000</td>\n",
       "      <td>830.000000</td>\n",
       "      <td>830.000000</td>\n",
       "      <td>830.000000</td>\n",
       "      <td>830.000000</td>\n",
       "    </tr>\n",
       "    <tr>\n",
       "      <th>mean</th>\n",
       "      <td>4.393976</td>\n",
       "      <td>55.781928</td>\n",
       "      <td>2.781928</td>\n",
       "      <td>2.813253</td>\n",
       "      <td>2.915663</td>\n",
       "      <td>0.485542</td>\n",
       "    </tr>\n",
       "    <tr>\n",
       "      <th>std</th>\n",
       "      <td>1.888371</td>\n",
       "      <td>14.671782</td>\n",
       "      <td>1.242361</td>\n",
       "      <td>1.567175</td>\n",
       "      <td>0.350936</td>\n",
       "      <td>0.500092</td>\n",
       "    </tr>\n",
       "    <tr>\n",
       "      <th>min</th>\n",
       "      <td>0.000000</td>\n",
       "      <td>18.000000</td>\n",
       "      <td>1.000000</td>\n",
       "      <td>1.000000</td>\n",
       "      <td>1.000000</td>\n",
       "      <td>0.000000</td>\n",
       "    </tr>\n",
       "    <tr>\n",
       "      <th>25%</th>\n",
       "      <td>4.000000</td>\n",
       "      <td>46.000000</td>\n",
       "      <td>2.000000</td>\n",
       "      <td>1.000000</td>\n",
       "      <td>3.000000</td>\n",
       "      <td>0.000000</td>\n",
       "    </tr>\n",
       "    <tr>\n",
       "      <th>50%</th>\n",
       "      <td>4.000000</td>\n",
       "      <td>57.000000</td>\n",
       "      <td>3.000000</td>\n",
       "      <td>3.000000</td>\n",
       "      <td>3.000000</td>\n",
       "      <td>0.000000</td>\n",
       "    </tr>\n",
       "    <tr>\n",
       "      <th>75%</th>\n",
       "      <td>5.000000</td>\n",
       "      <td>66.000000</td>\n",
       "      <td>4.000000</td>\n",
       "      <td>4.000000</td>\n",
       "      <td>3.000000</td>\n",
       "      <td>1.000000</td>\n",
       "    </tr>\n",
       "    <tr>\n",
       "      <th>max</th>\n",
       "      <td>55.000000</td>\n",
       "      <td>96.000000</td>\n",
       "      <td>4.000000</td>\n",
       "      <td>5.000000</td>\n",
       "      <td>4.000000</td>\n",
       "      <td>1.000000</td>\n",
       "    </tr>\n",
       "  </tbody>\n",
       "</table>\n",
       "</div>"
      ]
     },
     "execution_count": 6,
     "metadata": {},
     "output_type": "execute_result"
    }
   ],
   "execution_count": 6
  },
  {
   "metadata": {
    "ExecuteTime": {
     "end_time": "2024-05-02T18:12:22.678319Z",
     "start_time": "2024-05-02T18:12:22.674732Z"
    }
   },
   "cell_type": "code",
   "source": [
    "# Now I need to convert the pandas DataFrame into NumpyArrays so that Scikit-Learn can use the information (they are preferred)\n",
    "all_features = masses_data[[\"age\", \"shape\", \"margin\", \"density\"]].values\n",
    "all_classes = masses_data[\"severity\"].values\n",
    "feature_names = ['age', 'shape', 'margin', 'density']"
   ],
   "id": "de3650791e684bbf",
   "outputs": [],
   "execution_count": 7
  },
  {
   "metadata": {
    "ExecuteTime": {
     "end_time": "2024-05-02T18:12:24.097109Z",
     "start_time": "2024-05-02T18:12:24.090705Z"
    }
   },
   "cell_type": "code",
   "source": [
    "# Remember the very important step to normalize the data\n",
    "from sklearn import preprocessing\n",
    "\n",
    "scaler = preprocessing.StandardScaler()  # Mean of 0 and SD of 1\n",
    "all_features_standard_scaled = scaler.fit_transform(all_features)\n",
    "all_features_standard_scaled"
   ],
   "id": "a970a567aeec3ea6",
   "outputs": [
    {
     "data": {
      "text/plain": [
       "array([[ 0.7650629 ,  0.17563638,  1.39618483,  0.24046607],\n",
       "       [ 0.15127063,  0.98104077,  1.39618483,  0.24046607],\n",
       "       [-1.89470363, -1.43517241, -1.157718  ,  0.24046607],\n",
       "       ...,\n",
       "       [ 0.56046548,  0.98104077,  1.39618483,  0.24046607],\n",
       "       [ 0.69686376,  0.98104077,  1.39618483,  0.24046607],\n",
       "       [ 0.42406719,  0.17563638,  0.11923341,  0.24046607]])"
      ]
     },
     "execution_count": 8,
     "metadata": {},
     "output_type": "execute_result"
    }
   ],
   "execution_count": 8
  },
  {
   "metadata": {
    "ExecuteTime": {
     "end_time": "2024-05-02T22:10:34.256048Z",
     "start_time": "2024-05-02T22:10:34.252079Z"
    }
   },
   "cell_type": "code",
   "source": [
    "from tensorflow.keras.layers import Dense, InputSpec\n",
    "from keras import Sequential\n",
    "\n",
    "\n",
    "def create_model():\n",
    "    model = Sequential()\n",
    "    # Generating a 6 node layer \n",
    "    model.add(Dense(units=6, kernel_initializer=\"he_normal\", activation=\"relu\")) # Where He Initialization is like Glorot but taking into consideration activation functions like ReLu\n",
    "    # Output layer with a binary classification\n",
    "    model.add(Dense(units=1, kernel_initializer=\"normal\", activation=\"sigmoid\"))\n",
    "    # Compiling the model\n",
    "    model.compile(loss=\"binary_crossentropy\", optimizer=\"adam\", metrics=[\"accuracy\"])\n",
    "    return model"
   ],
   "id": "c7800c7c86f90beb",
   "outputs": [],
   "execution_count": 25
  },
  {
   "metadata": {},
   "cell_type": "markdown",
   "source": "Now, I am going to use scikeras which is a wrapper library that is designed to bridge the gap between scikit-learn and Keras/TensorFlow",
   "id": "a3b6a11105f18c98"
  },
  {
   "metadata": {
    "ExecuteTime": {
     "end_time": "2024-05-02T21:46:10.067441Z",
     "start_time": "2024-05-02T21:46:09.825269Z"
    }
   },
   "cell_type": "code",
   "source": "!pip install scikeras[tensorflow]",
   "id": "a02b0ac357c7fa41",
   "outputs": [
    {
     "name": "stdout",
     "output_type": "stream",
     "text": [
      "zsh:1: no matches found: scikeras[tensorflow]\r\n"
     ]
    }
   ],
   "execution_count": 13
  },
  {
   "metadata": {
    "ExecuteTime": {
     "end_time": "2024-05-02T21:46:28.004075Z",
     "start_time": "2024-05-02T21:46:23.804821Z"
    }
   },
   "cell_type": "code",
   "source": "!pip install scikeras",
   "id": "d4220a1969ab758",
   "outputs": [
    {
     "name": "stdout",
     "output_type": "stream",
     "text": [
      "Collecting scikeras\r\n",
      "  Downloading scikeras-0.13.0-py3-none-any.whl.metadata (3.1 kB)\r\n",
      "Requirement already satisfied: keras>=3.2.0 in /Users/andreysolera/Library/Caches/pypoetry/virtualenvs/mammogram-pUfYuUpY-py3.11/lib/python3.11/site-packages (from scikeras) (3.3.3)\r\n",
      "Requirement already satisfied: scikit-learn>=1.4.2 in /Users/andreysolera/Library/Caches/pypoetry/virtualenvs/mammogram-pUfYuUpY-py3.11/lib/python3.11/site-packages (from scikeras) (1.4.2)\r\n",
      "Requirement already satisfied: absl-py in /Users/andreysolera/Library/Caches/pypoetry/virtualenvs/mammogram-pUfYuUpY-py3.11/lib/python3.11/site-packages (from keras>=3.2.0->scikeras) (2.1.0)\r\n",
      "Requirement already satisfied: numpy in /Users/andreysolera/Library/Caches/pypoetry/virtualenvs/mammogram-pUfYuUpY-py3.11/lib/python3.11/site-packages (from keras>=3.2.0->scikeras) (1.26.4)\r\n",
      "Requirement already satisfied: rich in /Users/andreysolera/Library/Caches/pypoetry/virtualenvs/mammogram-pUfYuUpY-py3.11/lib/python3.11/site-packages (from keras>=3.2.0->scikeras) (13.7.1)\r\n",
      "Requirement already satisfied: namex in /Users/andreysolera/Library/Caches/pypoetry/virtualenvs/mammogram-pUfYuUpY-py3.11/lib/python3.11/site-packages (from keras>=3.2.0->scikeras) (0.0.8)\r\n",
      "Requirement already satisfied: h5py in /Users/andreysolera/Library/Caches/pypoetry/virtualenvs/mammogram-pUfYuUpY-py3.11/lib/python3.11/site-packages (from keras>=3.2.0->scikeras) (3.11.0)\r\n",
      "Requirement already satisfied: optree in /Users/andreysolera/Library/Caches/pypoetry/virtualenvs/mammogram-pUfYuUpY-py3.11/lib/python3.11/site-packages (from keras>=3.2.0->scikeras) (0.11.0)\r\n",
      "Requirement already satisfied: ml-dtypes in /Users/andreysolera/Library/Caches/pypoetry/virtualenvs/mammogram-pUfYuUpY-py3.11/lib/python3.11/site-packages (from keras>=3.2.0->scikeras) (0.3.2)\r\n",
      "Requirement already satisfied: scipy>=1.6.0 in /Users/andreysolera/Library/Caches/pypoetry/virtualenvs/mammogram-pUfYuUpY-py3.11/lib/python3.11/site-packages (from scikit-learn>=1.4.2->scikeras) (1.13.0)\r\n",
      "Requirement already satisfied: joblib>=1.2.0 in /Users/andreysolera/Library/Caches/pypoetry/virtualenvs/mammogram-pUfYuUpY-py3.11/lib/python3.11/site-packages (from scikit-learn>=1.4.2->scikeras) (1.4.2)\r\n",
      "Requirement already satisfied: threadpoolctl>=2.0.0 in /Users/andreysolera/Library/Caches/pypoetry/virtualenvs/mammogram-pUfYuUpY-py3.11/lib/python3.11/site-packages (from scikit-learn>=1.4.2->scikeras) (3.5.0)\r\n",
      "Requirement already satisfied: typing-extensions>=4.0.0 in /Users/andreysolera/Library/Caches/pypoetry/virtualenvs/mammogram-pUfYuUpY-py3.11/lib/python3.11/site-packages (from optree->keras>=3.2.0->scikeras) (4.11.0)\r\n",
      "Requirement already satisfied: markdown-it-py>=2.2.0 in /Users/andreysolera/Library/Caches/pypoetry/virtualenvs/mammogram-pUfYuUpY-py3.11/lib/python3.11/site-packages (from rich->keras>=3.2.0->scikeras) (3.0.0)\r\n",
      "Requirement already satisfied: pygments<3.0.0,>=2.13.0 in /Users/andreysolera/Library/Caches/pypoetry/virtualenvs/mammogram-pUfYuUpY-py3.11/lib/python3.11/site-packages (from rich->keras>=3.2.0->scikeras) (2.17.2)\r\n",
      "Requirement already satisfied: mdurl~=0.1 in /Users/andreysolera/Library/Caches/pypoetry/virtualenvs/mammogram-pUfYuUpY-py3.11/lib/python3.11/site-packages (from markdown-it-py>=2.2.0->rich->keras>=3.2.0->scikeras) (0.1.2)\r\n",
      "Downloading scikeras-0.13.0-py3-none-any.whl (26 kB)\r\n",
      "Installing collected packages: scikeras\r\n",
      "Successfully installed scikeras-0.13.0\r\n"
     ]
    }
   ],
   "execution_count": 14
  },
  {
   "metadata": {
    "ExecuteTime": {
     "end_time": "2024-05-02T21:46:38.695628Z",
     "start_time": "2024-05-02T21:46:36.126177Z"
    }
   },
   "cell_type": "code",
   "source": "!pip install tensorflow",
   "id": "9a15e6a746816111",
   "outputs": [
    {
     "name": "stdout",
     "output_type": "stream",
     "text": [
      "Requirement already satisfied: tensorflow in /Users/andreysolera/Library/Caches/pypoetry/virtualenvs/mammogram-pUfYuUpY-py3.11/lib/python3.11/site-packages (2.16.1)\r\n",
      "Requirement already satisfied: absl-py>=1.0.0 in /Users/andreysolera/Library/Caches/pypoetry/virtualenvs/mammogram-pUfYuUpY-py3.11/lib/python3.11/site-packages (from tensorflow) (2.1.0)\r\n",
      "Requirement already satisfied: astunparse>=1.6.0 in /Users/andreysolera/Library/Caches/pypoetry/virtualenvs/mammogram-pUfYuUpY-py3.11/lib/python3.11/site-packages (from tensorflow) (1.6.3)\r\n",
      "Requirement already satisfied: flatbuffers>=23.5.26 in /Users/andreysolera/Library/Caches/pypoetry/virtualenvs/mammogram-pUfYuUpY-py3.11/lib/python3.11/site-packages (from tensorflow) (24.3.25)\r\n",
      "Requirement already satisfied: gast!=0.5.0,!=0.5.1,!=0.5.2,>=0.2.1 in /Users/andreysolera/Library/Caches/pypoetry/virtualenvs/mammogram-pUfYuUpY-py3.11/lib/python3.11/site-packages (from tensorflow) (0.5.4)\r\n",
      "Requirement already satisfied: google-pasta>=0.1.1 in /Users/andreysolera/Library/Caches/pypoetry/virtualenvs/mammogram-pUfYuUpY-py3.11/lib/python3.11/site-packages (from tensorflow) (0.2.0)\r\n",
      "Requirement already satisfied: h5py>=3.10.0 in /Users/andreysolera/Library/Caches/pypoetry/virtualenvs/mammogram-pUfYuUpY-py3.11/lib/python3.11/site-packages (from tensorflow) (3.11.0)\r\n",
      "Requirement already satisfied: libclang>=13.0.0 in /Users/andreysolera/Library/Caches/pypoetry/virtualenvs/mammogram-pUfYuUpY-py3.11/lib/python3.11/site-packages (from tensorflow) (18.1.1)\r\n",
      "Requirement already satisfied: ml-dtypes~=0.3.1 in /Users/andreysolera/Library/Caches/pypoetry/virtualenvs/mammogram-pUfYuUpY-py3.11/lib/python3.11/site-packages (from tensorflow) (0.3.2)\r\n",
      "Requirement already satisfied: opt-einsum>=2.3.2 in /Users/andreysolera/Library/Caches/pypoetry/virtualenvs/mammogram-pUfYuUpY-py3.11/lib/python3.11/site-packages (from tensorflow) (3.3.0)\r\n",
      "Requirement already satisfied: packaging in /Users/andreysolera/Library/Caches/pypoetry/virtualenvs/mammogram-pUfYuUpY-py3.11/lib/python3.11/site-packages (from tensorflow) (24.0)\r\n",
      "Requirement already satisfied: protobuf!=4.21.0,!=4.21.1,!=4.21.2,!=4.21.3,!=4.21.4,!=4.21.5,<5.0.0dev,>=3.20.3 in /Users/andreysolera/Library/Caches/pypoetry/virtualenvs/mammogram-pUfYuUpY-py3.11/lib/python3.11/site-packages (from tensorflow) (4.25.3)\r\n",
      "Requirement already satisfied: requests<3,>=2.21.0 in /Users/andreysolera/Library/Caches/pypoetry/virtualenvs/mammogram-pUfYuUpY-py3.11/lib/python3.11/site-packages (from tensorflow) (2.31.0)\r\n",
      "Requirement already satisfied: setuptools in /Users/andreysolera/Library/Caches/pypoetry/virtualenvs/mammogram-pUfYuUpY-py3.11/lib/python3.11/site-packages (from tensorflow) (69.5.1)\r\n",
      "Requirement already satisfied: six>=1.12.0 in /Users/andreysolera/Library/Caches/pypoetry/virtualenvs/mammogram-pUfYuUpY-py3.11/lib/python3.11/site-packages (from tensorflow) (1.16.0)\r\n",
      "Requirement already satisfied: termcolor>=1.1.0 in /Users/andreysolera/Library/Caches/pypoetry/virtualenvs/mammogram-pUfYuUpY-py3.11/lib/python3.11/site-packages (from tensorflow) (2.4.0)\r\n",
      "Requirement already satisfied: typing-extensions>=3.6.6 in /Users/andreysolera/Library/Caches/pypoetry/virtualenvs/mammogram-pUfYuUpY-py3.11/lib/python3.11/site-packages (from tensorflow) (4.11.0)\r\n",
      "Requirement already satisfied: wrapt>=1.11.0 in /Users/andreysolera/Library/Caches/pypoetry/virtualenvs/mammogram-pUfYuUpY-py3.11/lib/python3.11/site-packages (from tensorflow) (1.16.0)\r\n",
      "Requirement already satisfied: grpcio<2.0,>=1.24.3 in /Users/andreysolera/Library/Caches/pypoetry/virtualenvs/mammogram-pUfYuUpY-py3.11/lib/python3.11/site-packages (from tensorflow) (1.63.0)\r\n",
      "Requirement already satisfied: tensorboard<2.17,>=2.16 in /Users/andreysolera/Library/Caches/pypoetry/virtualenvs/mammogram-pUfYuUpY-py3.11/lib/python3.11/site-packages (from tensorflow) (2.16.2)\r\n",
      "Requirement already satisfied: keras>=3.0.0 in /Users/andreysolera/Library/Caches/pypoetry/virtualenvs/mammogram-pUfYuUpY-py3.11/lib/python3.11/site-packages (from tensorflow) (3.3.3)\r\n",
      "Requirement already satisfied: tensorflow-io-gcs-filesystem>=0.23.1 in /Users/andreysolera/Library/Caches/pypoetry/virtualenvs/mammogram-pUfYuUpY-py3.11/lib/python3.11/site-packages (from tensorflow) (0.37.0)\r\n",
      "Requirement already satisfied: numpy<2.0.0,>=1.23.5 in /Users/andreysolera/Library/Caches/pypoetry/virtualenvs/mammogram-pUfYuUpY-py3.11/lib/python3.11/site-packages (from tensorflow) (1.26.4)\r\n",
      "Requirement already satisfied: wheel<1.0,>=0.23.0 in /Users/andreysolera/Library/Caches/pypoetry/virtualenvs/mammogram-pUfYuUpY-py3.11/lib/python3.11/site-packages (from astunparse>=1.6.0->tensorflow) (0.43.0)\r\n",
      "Requirement already satisfied: rich in /Users/andreysolera/Library/Caches/pypoetry/virtualenvs/mammogram-pUfYuUpY-py3.11/lib/python3.11/site-packages (from keras>=3.0.0->tensorflow) (13.7.1)\r\n",
      "Requirement already satisfied: namex in /Users/andreysolera/Library/Caches/pypoetry/virtualenvs/mammogram-pUfYuUpY-py3.11/lib/python3.11/site-packages (from keras>=3.0.0->tensorflow) (0.0.8)\r\n",
      "Requirement already satisfied: optree in /Users/andreysolera/Library/Caches/pypoetry/virtualenvs/mammogram-pUfYuUpY-py3.11/lib/python3.11/site-packages (from keras>=3.0.0->tensorflow) (0.11.0)\r\n",
      "Requirement already satisfied: charset-normalizer<4,>=2 in /Users/andreysolera/Library/Caches/pypoetry/virtualenvs/mammogram-pUfYuUpY-py3.11/lib/python3.11/site-packages (from requests<3,>=2.21.0->tensorflow) (3.3.2)\r\n",
      "Requirement already satisfied: idna<4,>=2.5 in /Users/andreysolera/Library/Caches/pypoetry/virtualenvs/mammogram-pUfYuUpY-py3.11/lib/python3.11/site-packages (from requests<3,>=2.21.0->tensorflow) (3.7)\r\n",
      "Requirement already satisfied: urllib3<3,>=1.21.1 in /Users/andreysolera/Library/Caches/pypoetry/virtualenvs/mammogram-pUfYuUpY-py3.11/lib/python3.11/site-packages (from requests<3,>=2.21.0->tensorflow) (2.2.1)\r\n",
      "Requirement already satisfied: certifi>=2017.4.17 in /Users/andreysolera/Library/Caches/pypoetry/virtualenvs/mammogram-pUfYuUpY-py3.11/lib/python3.11/site-packages (from requests<3,>=2.21.0->tensorflow) (2024.2.2)\r\n",
      "Requirement already satisfied: markdown>=2.6.8 in /Users/andreysolera/Library/Caches/pypoetry/virtualenvs/mammogram-pUfYuUpY-py3.11/lib/python3.11/site-packages (from tensorboard<2.17,>=2.16->tensorflow) (3.6)\r\n",
      "Requirement already satisfied: tensorboard-data-server<0.8.0,>=0.7.0 in /Users/andreysolera/Library/Caches/pypoetry/virtualenvs/mammogram-pUfYuUpY-py3.11/lib/python3.11/site-packages (from tensorboard<2.17,>=2.16->tensorflow) (0.7.2)\r\n",
      "Requirement already satisfied: werkzeug>=1.0.1 in /Users/andreysolera/Library/Caches/pypoetry/virtualenvs/mammogram-pUfYuUpY-py3.11/lib/python3.11/site-packages (from tensorboard<2.17,>=2.16->tensorflow) (3.0.2)\r\n",
      "Requirement already satisfied: MarkupSafe>=2.1.1 in /Users/andreysolera/Library/Caches/pypoetry/virtualenvs/mammogram-pUfYuUpY-py3.11/lib/python3.11/site-packages (from werkzeug>=1.0.1->tensorboard<2.17,>=2.16->tensorflow) (2.1.5)\r\n",
      "Requirement already satisfied: markdown-it-py>=2.2.0 in /Users/andreysolera/Library/Caches/pypoetry/virtualenvs/mammogram-pUfYuUpY-py3.11/lib/python3.11/site-packages (from rich->keras>=3.0.0->tensorflow) (3.0.0)\r\n",
      "Requirement already satisfied: pygments<3.0.0,>=2.13.0 in /Users/andreysolera/Library/Caches/pypoetry/virtualenvs/mammogram-pUfYuUpY-py3.11/lib/python3.11/site-packages (from rich->keras>=3.0.0->tensorflow) (2.17.2)\r\n",
      "Requirement already satisfied: mdurl~=0.1 in /Users/andreysolera/Library/Caches/pypoetry/virtualenvs/mammogram-pUfYuUpY-py3.11/lib/python3.11/site-packages (from markdown-it-py>=2.2.0->rich->keras>=3.0.0->tensorflow) (0.1.2)\r\n"
     ]
    }
   ],
   "execution_count": 15
  },
  {
   "metadata": {
    "ExecuteTime": {
     "end_time": "2024-05-02T22:10:34.415518Z",
     "start_time": "2024-05-02T22:10:34.257441Z"
    }
   },
   "cell_type": "code",
   "source": [
    "from sklearn.model_selection import cross_val_score\n",
    "from scikeras.wrappers import KerasClassifier, KerasRegressor\n",
    "\n",
    "# Wrapping the keras model into an estimator compatible with scikit learn\n",
    "estimator = KerasClassifier(model=create_model, epochs=100, verbose=0)\n",
    "# Now using the scikit-learn cross_val_score to evaluate the model\n",
    "cv_scores = cross_val_score(estimator, all_features_standard_scaled, all_classes, cv=10)"
   ],
   "id": "42b2d67eb7560dec",
   "outputs": [
    {
     "ename": "ValueError",
     "evalue": "\nAll the 10 fits failed.\nIt is very likely that your model is misconfigured.\nYou can try to debug the error by setting error_score='raise'.\n\nBelow are more details about the failures:\n--------------------------------------------------------------------------------\n1 fits failed with the following error:\nTraceback (most recent call last):\n  File \"/Users/andreysolera/Library/Caches/pypoetry/virtualenvs/mammogram-pUfYuUpY-py3.11/lib/python3.11/site-packages/sklearn/model_selection/_validation.py\", line 895, in _fit_and_score\n    estimator.fit(X_train, y_train, **fit_params)\n  File \"/Users/andreysolera/Library/Caches/pypoetry/virtualenvs/mammogram-pUfYuUpY-py3.11/lib/python3.11/site-packages/scikeras/wrappers.py\", line 1501, in fit\n    super().fit(X=X, y=y, sample_weight=sample_weight, **kwargs)\n  File \"/Users/andreysolera/Library/Caches/pypoetry/virtualenvs/mammogram-pUfYuUpY-py3.11/lib/python3.11/site-packages/scikeras/wrappers.py\", line 770, in fit\n    self._fit(\n  File \"/Users/andreysolera/Library/Caches/pypoetry/virtualenvs/mammogram-pUfYuUpY-py3.11/lib/python3.11/site-packages/scikeras/wrappers.py\", line 936, in _fit\n    self._check_model_compatibility(y)\n  File \"/Users/andreysolera/Library/Caches/pypoetry/virtualenvs/mammogram-pUfYuUpY-py3.11/lib/python3.11/site-packages/scikeras/wrappers.py\", line 559, in _check_model_compatibility\n    if self.n_outputs_expected_ != len(self.model_.outputs):\n                                       ^^^^^^^^^^^^^^^^^^^\n  File \"/Users/andreysolera/Library/Caches/pypoetry/virtualenvs/mammogram-pUfYuUpY-py3.11/lib/python3.11/site-packages/keras/src/models/sequential.py\", line 283, in outputs\n    raise ValueError(\nValueError: Sequential model 'sequential_50' has no defined outputs yet.\n\n--------------------------------------------------------------------------------\n1 fits failed with the following error:\nTraceback (most recent call last):\n  File \"/Users/andreysolera/Library/Caches/pypoetry/virtualenvs/mammogram-pUfYuUpY-py3.11/lib/python3.11/site-packages/sklearn/model_selection/_validation.py\", line 895, in _fit_and_score\n    estimator.fit(X_train, y_train, **fit_params)\n  File \"/Users/andreysolera/Library/Caches/pypoetry/virtualenvs/mammogram-pUfYuUpY-py3.11/lib/python3.11/site-packages/scikeras/wrappers.py\", line 1501, in fit\n    super().fit(X=X, y=y, sample_weight=sample_weight, **kwargs)\n  File \"/Users/andreysolera/Library/Caches/pypoetry/virtualenvs/mammogram-pUfYuUpY-py3.11/lib/python3.11/site-packages/scikeras/wrappers.py\", line 770, in fit\n    self._fit(\n  File \"/Users/andreysolera/Library/Caches/pypoetry/virtualenvs/mammogram-pUfYuUpY-py3.11/lib/python3.11/site-packages/scikeras/wrappers.py\", line 936, in _fit\n    self._check_model_compatibility(y)\n  File \"/Users/andreysolera/Library/Caches/pypoetry/virtualenvs/mammogram-pUfYuUpY-py3.11/lib/python3.11/site-packages/scikeras/wrappers.py\", line 559, in _check_model_compatibility\n    if self.n_outputs_expected_ != len(self.model_.outputs):\n                                       ^^^^^^^^^^^^^^^^^^^\n  File \"/Users/andreysolera/Library/Caches/pypoetry/virtualenvs/mammogram-pUfYuUpY-py3.11/lib/python3.11/site-packages/keras/src/models/sequential.py\", line 283, in outputs\n    raise ValueError(\nValueError: Sequential model 'sequential_51' has no defined outputs yet.\n\n--------------------------------------------------------------------------------\n1 fits failed with the following error:\nTraceback (most recent call last):\n  File \"/Users/andreysolera/Library/Caches/pypoetry/virtualenvs/mammogram-pUfYuUpY-py3.11/lib/python3.11/site-packages/sklearn/model_selection/_validation.py\", line 895, in _fit_and_score\n    estimator.fit(X_train, y_train, **fit_params)\n  File \"/Users/andreysolera/Library/Caches/pypoetry/virtualenvs/mammogram-pUfYuUpY-py3.11/lib/python3.11/site-packages/scikeras/wrappers.py\", line 1501, in fit\n    super().fit(X=X, y=y, sample_weight=sample_weight, **kwargs)\n  File \"/Users/andreysolera/Library/Caches/pypoetry/virtualenvs/mammogram-pUfYuUpY-py3.11/lib/python3.11/site-packages/scikeras/wrappers.py\", line 770, in fit\n    self._fit(\n  File \"/Users/andreysolera/Library/Caches/pypoetry/virtualenvs/mammogram-pUfYuUpY-py3.11/lib/python3.11/site-packages/scikeras/wrappers.py\", line 936, in _fit\n    self._check_model_compatibility(y)\n  File \"/Users/andreysolera/Library/Caches/pypoetry/virtualenvs/mammogram-pUfYuUpY-py3.11/lib/python3.11/site-packages/scikeras/wrappers.py\", line 559, in _check_model_compatibility\n    if self.n_outputs_expected_ != len(self.model_.outputs):\n                                       ^^^^^^^^^^^^^^^^^^^\n  File \"/Users/andreysolera/Library/Caches/pypoetry/virtualenvs/mammogram-pUfYuUpY-py3.11/lib/python3.11/site-packages/keras/src/models/sequential.py\", line 283, in outputs\n    raise ValueError(\nValueError: Sequential model 'sequential_52' has no defined outputs yet.\n\n--------------------------------------------------------------------------------\n1 fits failed with the following error:\nTraceback (most recent call last):\n  File \"/Users/andreysolera/Library/Caches/pypoetry/virtualenvs/mammogram-pUfYuUpY-py3.11/lib/python3.11/site-packages/sklearn/model_selection/_validation.py\", line 895, in _fit_and_score\n    estimator.fit(X_train, y_train, **fit_params)\n  File \"/Users/andreysolera/Library/Caches/pypoetry/virtualenvs/mammogram-pUfYuUpY-py3.11/lib/python3.11/site-packages/scikeras/wrappers.py\", line 1501, in fit\n    super().fit(X=X, y=y, sample_weight=sample_weight, **kwargs)\n  File \"/Users/andreysolera/Library/Caches/pypoetry/virtualenvs/mammogram-pUfYuUpY-py3.11/lib/python3.11/site-packages/scikeras/wrappers.py\", line 770, in fit\n    self._fit(\n  File \"/Users/andreysolera/Library/Caches/pypoetry/virtualenvs/mammogram-pUfYuUpY-py3.11/lib/python3.11/site-packages/scikeras/wrappers.py\", line 936, in _fit\n    self._check_model_compatibility(y)\n  File \"/Users/andreysolera/Library/Caches/pypoetry/virtualenvs/mammogram-pUfYuUpY-py3.11/lib/python3.11/site-packages/scikeras/wrappers.py\", line 559, in _check_model_compatibility\n    if self.n_outputs_expected_ != len(self.model_.outputs):\n                                       ^^^^^^^^^^^^^^^^^^^\n  File \"/Users/andreysolera/Library/Caches/pypoetry/virtualenvs/mammogram-pUfYuUpY-py3.11/lib/python3.11/site-packages/keras/src/models/sequential.py\", line 283, in outputs\n    raise ValueError(\nValueError: Sequential model 'sequential_53' has no defined outputs yet.\n\n--------------------------------------------------------------------------------\n1 fits failed with the following error:\nTraceback (most recent call last):\n  File \"/Users/andreysolera/Library/Caches/pypoetry/virtualenvs/mammogram-pUfYuUpY-py3.11/lib/python3.11/site-packages/sklearn/model_selection/_validation.py\", line 895, in _fit_and_score\n    estimator.fit(X_train, y_train, **fit_params)\n  File \"/Users/andreysolera/Library/Caches/pypoetry/virtualenvs/mammogram-pUfYuUpY-py3.11/lib/python3.11/site-packages/scikeras/wrappers.py\", line 1501, in fit\n    super().fit(X=X, y=y, sample_weight=sample_weight, **kwargs)\n  File \"/Users/andreysolera/Library/Caches/pypoetry/virtualenvs/mammogram-pUfYuUpY-py3.11/lib/python3.11/site-packages/scikeras/wrappers.py\", line 770, in fit\n    self._fit(\n  File \"/Users/andreysolera/Library/Caches/pypoetry/virtualenvs/mammogram-pUfYuUpY-py3.11/lib/python3.11/site-packages/scikeras/wrappers.py\", line 936, in _fit\n    self._check_model_compatibility(y)\n  File \"/Users/andreysolera/Library/Caches/pypoetry/virtualenvs/mammogram-pUfYuUpY-py3.11/lib/python3.11/site-packages/scikeras/wrappers.py\", line 559, in _check_model_compatibility\n    if self.n_outputs_expected_ != len(self.model_.outputs):\n                                       ^^^^^^^^^^^^^^^^^^^\n  File \"/Users/andreysolera/Library/Caches/pypoetry/virtualenvs/mammogram-pUfYuUpY-py3.11/lib/python3.11/site-packages/keras/src/models/sequential.py\", line 283, in outputs\n    raise ValueError(\nValueError: Sequential model 'sequential_54' has no defined outputs yet.\n\n--------------------------------------------------------------------------------\n1 fits failed with the following error:\nTraceback (most recent call last):\n  File \"/Users/andreysolera/Library/Caches/pypoetry/virtualenvs/mammogram-pUfYuUpY-py3.11/lib/python3.11/site-packages/sklearn/model_selection/_validation.py\", line 895, in _fit_and_score\n    estimator.fit(X_train, y_train, **fit_params)\n  File \"/Users/andreysolera/Library/Caches/pypoetry/virtualenvs/mammogram-pUfYuUpY-py3.11/lib/python3.11/site-packages/scikeras/wrappers.py\", line 1501, in fit\n    super().fit(X=X, y=y, sample_weight=sample_weight, **kwargs)\n  File \"/Users/andreysolera/Library/Caches/pypoetry/virtualenvs/mammogram-pUfYuUpY-py3.11/lib/python3.11/site-packages/scikeras/wrappers.py\", line 770, in fit\n    self._fit(\n  File \"/Users/andreysolera/Library/Caches/pypoetry/virtualenvs/mammogram-pUfYuUpY-py3.11/lib/python3.11/site-packages/scikeras/wrappers.py\", line 936, in _fit\n    self._check_model_compatibility(y)\n  File \"/Users/andreysolera/Library/Caches/pypoetry/virtualenvs/mammogram-pUfYuUpY-py3.11/lib/python3.11/site-packages/scikeras/wrappers.py\", line 559, in _check_model_compatibility\n    if self.n_outputs_expected_ != len(self.model_.outputs):\n                                       ^^^^^^^^^^^^^^^^^^^\n  File \"/Users/andreysolera/Library/Caches/pypoetry/virtualenvs/mammogram-pUfYuUpY-py3.11/lib/python3.11/site-packages/keras/src/models/sequential.py\", line 283, in outputs\n    raise ValueError(\nValueError: Sequential model 'sequential_55' has no defined outputs yet.\n\n--------------------------------------------------------------------------------\n1 fits failed with the following error:\nTraceback (most recent call last):\n  File \"/Users/andreysolera/Library/Caches/pypoetry/virtualenvs/mammogram-pUfYuUpY-py3.11/lib/python3.11/site-packages/sklearn/model_selection/_validation.py\", line 895, in _fit_and_score\n    estimator.fit(X_train, y_train, **fit_params)\n  File \"/Users/andreysolera/Library/Caches/pypoetry/virtualenvs/mammogram-pUfYuUpY-py3.11/lib/python3.11/site-packages/scikeras/wrappers.py\", line 1501, in fit\n    super().fit(X=X, y=y, sample_weight=sample_weight, **kwargs)\n  File \"/Users/andreysolera/Library/Caches/pypoetry/virtualenvs/mammogram-pUfYuUpY-py3.11/lib/python3.11/site-packages/scikeras/wrappers.py\", line 770, in fit\n    self._fit(\n  File \"/Users/andreysolera/Library/Caches/pypoetry/virtualenvs/mammogram-pUfYuUpY-py3.11/lib/python3.11/site-packages/scikeras/wrappers.py\", line 936, in _fit\n    self._check_model_compatibility(y)\n  File \"/Users/andreysolera/Library/Caches/pypoetry/virtualenvs/mammogram-pUfYuUpY-py3.11/lib/python3.11/site-packages/scikeras/wrappers.py\", line 559, in _check_model_compatibility\n    if self.n_outputs_expected_ != len(self.model_.outputs):\n                                       ^^^^^^^^^^^^^^^^^^^\n  File \"/Users/andreysolera/Library/Caches/pypoetry/virtualenvs/mammogram-pUfYuUpY-py3.11/lib/python3.11/site-packages/keras/src/models/sequential.py\", line 283, in outputs\n    raise ValueError(\nValueError: Sequential model 'sequential_56' has no defined outputs yet.\n\n--------------------------------------------------------------------------------\n1 fits failed with the following error:\nTraceback (most recent call last):\n  File \"/Users/andreysolera/Library/Caches/pypoetry/virtualenvs/mammogram-pUfYuUpY-py3.11/lib/python3.11/site-packages/sklearn/model_selection/_validation.py\", line 895, in _fit_and_score\n    estimator.fit(X_train, y_train, **fit_params)\n  File \"/Users/andreysolera/Library/Caches/pypoetry/virtualenvs/mammogram-pUfYuUpY-py3.11/lib/python3.11/site-packages/scikeras/wrappers.py\", line 1501, in fit\n    super().fit(X=X, y=y, sample_weight=sample_weight, **kwargs)\n  File \"/Users/andreysolera/Library/Caches/pypoetry/virtualenvs/mammogram-pUfYuUpY-py3.11/lib/python3.11/site-packages/scikeras/wrappers.py\", line 770, in fit\n    self._fit(\n  File \"/Users/andreysolera/Library/Caches/pypoetry/virtualenvs/mammogram-pUfYuUpY-py3.11/lib/python3.11/site-packages/scikeras/wrappers.py\", line 936, in _fit\n    self._check_model_compatibility(y)\n  File \"/Users/andreysolera/Library/Caches/pypoetry/virtualenvs/mammogram-pUfYuUpY-py3.11/lib/python3.11/site-packages/scikeras/wrappers.py\", line 559, in _check_model_compatibility\n    if self.n_outputs_expected_ != len(self.model_.outputs):\n                                       ^^^^^^^^^^^^^^^^^^^\n  File \"/Users/andreysolera/Library/Caches/pypoetry/virtualenvs/mammogram-pUfYuUpY-py3.11/lib/python3.11/site-packages/keras/src/models/sequential.py\", line 283, in outputs\n    raise ValueError(\nValueError: Sequential model 'sequential_57' has no defined outputs yet.\n\n--------------------------------------------------------------------------------\n1 fits failed with the following error:\nTraceback (most recent call last):\n  File \"/Users/andreysolera/Library/Caches/pypoetry/virtualenvs/mammogram-pUfYuUpY-py3.11/lib/python3.11/site-packages/sklearn/model_selection/_validation.py\", line 895, in _fit_and_score\n    estimator.fit(X_train, y_train, **fit_params)\n  File \"/Users/andreysolera/Library/Caches/pypoetry/virtualenvs/mammogram-pUfYuUpY-py3.11/lib/python3.11/site-packages/scikeras/wrappers.py\", line 1501, in fit\n    super().fit(X=X, y=y, sample_weight=sample_weight, **kwargs)\n  File \"/Users/andreysolera/Library/Caches/pypoetry/virtualenvs/mammogram-pUfYuUpY-py3.11/lib/python3.11/site-packages/scikeras/wrappers.py\", line 770, in fit\n    self._fit(\n  File \"/Users/andreysolera/Library/Caches/pypoetry/virtualenvs/mammogram-pUfYuUpY-py3.11/lib/python3.11/site-packages/scikeras/wrappers.py\", line 936, in _fit\n    self._check_model_compatibility(y)\n  File \"/Users/andreysolera/Library/Caches/pypoetry/virtualenvs/mammogram-pUfYuUpY-py3.11/lib/python3.11/site-packages/scikeras/wrappers.py\", line 559, in _check_model_compatibility\n    if self.n_outputs_expected_ != len(self.model_.outputs):\n                                       ^^^^^^^^^^^^^^^^^^^\n  File \"/Users/andreysolera/Library/Caches/pypoetry/virtualenvs/mammogram-pUfYuUpY-py3.11/lib/python3.11/site-packages/keras/src/models/sequential.py\", line 283, in outputs\n    raise ValueError(\nValueError: Sequential model 'sequential_58' has no defined outputs yet.\n\n--------------------------------------------------------------------------------\n1 fits failed with the following error:\nTraceback (most recent call last):\n  File \"/Users/andreysolera/Library/Caches/pypoetry/virtualenvs/mammogram-pUfYuUpY-py3.11/lib/python3.11/site-packages/sklearn/model_selection/_validation.py\", line 895, in _fit_and_score\n    estimator.fit(X_train, y_train, **fit_params)\n  File \"/Users/andreysolera/Library/Caches/pypoetry/virtualenvs/mammogram-pUfYuUpY-py3.11/lib/python3.11/site-packages/scikeras/wrappers.py\", line 1501, in fit\n    super().fit(X=X, y=y, sample_weight=sample_weight, **kwargs)\n  File \"/Users/andreysolera/Library/Caches/pypoetry/virtualenvs/mammogram-pUfYuUpY-py3.11/lib/python3.11/site-packages/scikeras/wrappers.py\", line 770, in fit\n    self._fit(\n  File \"/Users/andreysolera/Library/Caches/pypoetry/virtualenvs/mammogram-pUfYuUpY-py3.11/lib/python3.11/site-packages/scikeras/wrappers.py\", line 936, in _fit\n    self._check_model_compatibility(y)\n  File \"/Users/andreysolera/Library/Caches/pypoetry/virtualenvs/mammogram-pUfYuUpY-py3.11/lib/python3.11/site-packages/scikeras/wrappers.py\", line 559, in _check_model_compatibility\n    if self.n_outputs_expected_ != len(self.model_.outputs):\n                                       ^^^^^^^^^^^^^^^^^^^\n  File \"/Users/andreysolera/Library/Caches/pypoetry/virtualenvs/mammogram-pUfYuUpY-py3.11/lib/python3.11/site-packages/keras/src/models/sequential.py\", line 283, in outputs\n    raise ValueError(\nValueError: Sequential model 'sequential_59' has no defined outputs yet.\n",
     "output_type": "error",
     "traceback": [
      "\u001B[0;31m---------------------------------------------------------------------------\u001B[0m",
      "\u001B[0;31mValueError\u001B[0m                                Traceback (most recent call last)",
      "Cell \u001B[0;32mIn[26], line 7\u001B[0m\n\u001B[1;32m      5\u001B[0m estimator \u001B[38;5;241m=\u001B[39m KerasClassifier(model\u001B[38;5;241m=\u001B[39mcreate_model, epochs\u001B[38;5;241m=\u001B[39m\u001B[38;5;241m100\u001B[39m, verbose\u001B[38;5;241m=\u001B[39m\u001B[38;5;241m0\u001B[39m)\n\u001B[1;32m      6\u001B[0m \u001B[38;5;66;03m# Now using the scikit-learn cross_val_score to evaluate the model\u001B[39;00m\n\u001B[0;32m----> 7\u001B[0m cv_scores \u001B[38;5;241m=\u001B[39m \u001B[43mcross_val_score\u001B[49m\u001B[43m(\u001B[49m\u001B[43mestimator\u001B[49m\u001B[43m,\u001B[49m\u001B[43m \u001B[49m\u001B[43mall_features_standard_scaled\u001B[49m\u001B[43m,\u001B[49m\u001B[43m \u001B[49m\u001B[43mall_classes\u001B[49m\u001B[43m,\u001B[49m\u001B[43m \u001B[49m\u001B[43mcv\u001B[49m\u001B[38;5;241;43m=\u001B[39;49m\u001B[38;5;241;43m10\u001B[39;49m\u001B[43m)\u001B[49m\n",
      "File \u001B[0;32m~/Library/Caches/pypoetry/virtualenvs/mammogram-pUfYuUpY-py3.11/lib/python3.11/site-packages/sklearn/utils/_param_validation.py:213\u001B[0m, in \u001B[0;36mvalidate_params.<locals>.decorator.<locals>.wrapper\u001B[0;34m(*args, **kwargs)\u001B[0m\n\u001B[1;32m    207\u001B[0m \u001B[38;5;28;01mtry\u001B[39;00m:\n\u001B[1;32m    208\u001B[0m     \u001B[38;5;28;01mwith\u001B[39;00m config_context(\n\u001B[1;32m    209\u001B[0m         skip_parameter_validation\u001B[38;5;241m=\u001B[39m(\n\u001B[1;32m    210\u001B[0m             prefer_skip_nested_validation \u001B[38;5;129;01mor\u001B[39;00m global_skip_validation\n\u001B[1;32m    211\u001B[0m         )\n\u001B[1;32m    212\u001B[0m     ):\n\u001B[0;32m--> 213\u001B[0m         \u001B[38;5;28;01mreturn\u001B[39;00m \u001B[43mfunc\u001B[49m\u001B[43m(\u001B[49m\u001B[38;5;241;43m*\u001B[39;49m\u001B[43margs\u001B[49m\u001B[43m,\u001B[49m\u001B[43m \u001B[49m\u001B[38;5;241;43m*\u001B[39;49m\u001B[38;5;241;43m*\u001B[39;49m\u001B[43mkwargs\u001B[49m\u001B[43m)\u001B[49m\n\u001B[1;32m    214\u001B[0m \u001B[38;5;28;01mexcept\u001B[39;00m InvalidParameterError \u001B[38;5;28;01mas\u001B[39;00m e:\n\u001B[1;32m    215\u001B[0m     \u001B[38;5;66;03m# When the function is just a wrapper around an estimator, we allow\u001B[39;00m\n\u001B[1;32m    216\u001B[0m     \u001B[38;5;66;03m# the function to delegate validation to the estimator, but we replace\u001B[39;00m\n\u001B[1;32m    217\u001B[0m     \u001B[38;5;66;03m# the name of the estimator by the name of the function in the error\u001B[39;00m\n\u001B[1;32m    218\u001B[0m     \u001B[38;5;66;03m# message to avoid confusion.\u001B[39;00m\n\u001B[1;32m    219\u001B[0m     msg \u001B[38;5;241m=\u001B[39m re\u001B[38;5;241m.\u001B[39msub(\n\u001B[1;32m    220\u001B[0m         \u001B[38;5;124mr\u001B[39m\u001B[38;5;124m\"\u001B[39m\u001B[38;5;124mparameter of \u001B[39m\u001B[38;5;124m\\\u001B[39m\u001B[38;5;124mw+ must be\u001B[39m\u001B[38;5;124m\"\u001B[39m,\n\u001B[1;32m    221\u001B[0m         \u001B[38;5;124mf\u001B[39m\u001B[38;5;124m\"\u001B[39m\u001B[38;5;124mparameter of \u001B[39m\u001B[38;5;132;01m{\u001B[39;00mfunc\u001B[38;5;241m.\u001B[39m\u001B[38;5;18m__qualname__\u001B[39m\u001B[38;5;132;01m}\u001B[39;00m\u001B[38;5;124m must be\u001B[39m\u001B[38;5;124m\"\u001B[39m,\n\u001B[1;32m    222\u001B[0m         \u001B[38;5;28mstr\u001B[39m(e),\n\u001B[1;32m    223\u001B[0m     )\n",
      "File \u001B[0;32m~/Library/Caches/pypoetry/virtualenvs/mammogram-pUfYuUpY-py3.11/lib/python3.11/site-packages/sklearn/model_selection/_validation.py:719\u001B[0m, in \u001B[0;36mcross_val_score\u001B[0;34m(estimator, X, y, groups, scoring, cv, n_jobs, verbose, fit_params, params, pre_dispatch, error_score)\u001B[0m\n\u001B[1;32m    716\u001B[0m \u001B[38;5;66;03m# To ensure multimetric format is not supported\u001B[39;00m\n\u001B[1;32m    717\u001B[0m scorer \u001B[38;5;241m=\u001B[39m check_scoring(estimator, scoring\u001B[38;5;241m=\u001B[39mscoring)\n\u001B[0;32m--> 719\u001B[0m cv_results \u001B[38;5;241m=\u001B[39m \u001B[43mcross_validate\u001B[49m\u001B[43m(\u001B[49m\n\u001B[1;32m    720\u001B[0m \u001B[43m    \u001B[49m\u001B[43mestimator\u001B[49m\u001B[38;5;241;43m=\u001B[39;49m\u001B[43mestimator\u001B[49m\u001B[43m,\u001B[49m\n\u001B[1;32m    721\u001B[0m \u001B[43m    \u001B[49m\u001B[43mX\u001B[49m\u001B[38;5;241;43m=\u001B[39;49m\u001B[43mX\u001B[49m\u001B[43m,\u001B[49m\n\u001B[1;32m    722\u001B[0m \u001B[43m    \u001B[49m\u001B[43my\u001B[49m\u001B[38;5;241;43m=\u001B[39;49m\u001B[43my\u001B[49m\u001B[43m,\u001B[49m\n\u001B[1;32m    723\u001B[0m \u001B[43m    \u001B[49m\u001B[43mgroups\u001B[49m\u001B[38;5;241;43m=\u001B[39;49m\u001B[43mgroups\u001B[49m\u001B[43m,\u001B[49m\n\u001B[1;32m    724\u001B[0m \u001B[43m    \u001B[49m\u001B[43mscoring\u001B[49m\u001B[38;5;241;43m=\u001B[39;49m\u001B[43m{\u001B[49m\u001B[38;5;124;43m\"\u001B[39;49m\u001B[38;5;124;43mscore\u001B[39;49m\u001B[38;5;124;43m\"\u001B[39;49m\u001B[43m:\u001B[49m\u001B[43m \u001B[49m\u001B[43mscorer\u001B[49m\u001B[43m}\u001B[49m\u001B[43m,\u001B[49m\n\u001B[1;32m    725\u001B[0m \u001B[43m    \u001B[49m\u001B[43mcv\u001B[49m\u001B[38;5;241;43m=\u001B[39;49m\u001B[43mcv\u001B[49m\u001B[43m,\u001B[49m\n\u001B[1;32m    726\u001B[0m \u001B[43m    \u001B[49m\u001B[43mn_jobs\u001B[49m\u001B[38;5;241;43m=\u001B[39;49m\u001B[43mn_jobs\u001B[49m\u001B[43m,\u001B[49m\n\u001B[1;32m    727\u001B[0m \u001B[43m    \u001B[49m\u001B[43mverbose\u001B[49m\u001B[38;5;241;43m=\u001B[39;49m\u001B[43mverbose\u001B[49m\u001B[43m,\u001B[49m\n\u001B[1;32m    728\u001B[0m \u001B[43m    \u001B[49m\u001B[43mfit_params\u001B[49m\u001B[38;5;241;43m=\u001B[39;49m\u001B[43mfit_params\u001B[49m\u001B[43m,\u001B[49m\n\u001B[1;32m    729\u001B[0m \u001B[43m    \u001B[49m\u001B[43mparams\u001B[49m\u001B[38;5;241;43m=\u001B[39;49m\u001B[43mparams\u001B[49m\u001B[43m,\u001B[49m\n\u001B[1;32m    730\u001B[0m \u001B[43m    \u001B[49m\u001B[43mpre_dispatch\u001B[49m\u001B[38;5;241;43m=\u001B[39;49m\u001B[43mpre_dispatch\u001B[49m\u001B[43m,\u001B[49m\n\u001B[1;32m    731\u001B[0m \u001B[43m    \u001B[49m\u001B[43merror_score\u001B[49m\u001B[38;5;241;43m=\u001B[39;49m\u001B[43merror_score\u001B[49m\u001B[43m,\u001B[49m\n\u001B[1;32m    732\u001B[0m \u001B[43m\u001B[49m\u001B[43m)\u001B[49m\n\u001B[1;32m    733\u001B[0m \u001B[38;5;28;01mreturn\u001B[39;00m cv_results[\u001B[38;5;124m\"\u001B[39m\u001B[38;5;124mtest_score\u001B[39m\u001B[38;5;124m\"\u001B[39m]\n",
      "File \u001B[0;32m~/Library/Caches/pypoetry/virtualenvs/mammogram-pUfYuUpY-py3.11/lib/python3.11/site-packages/sklearn/utils/_param_validation.py:213\u001B[0m, in \u001B[0;36mvalidate_params.<locals>.decorator.<locals>.wrapper\u001B[0;34m(*args, **kwargs)\u001B[0m\n\u001B[1;32m    207\u001B[0m \u001B[38;5;28;01mtry\u001B[39;00m:\n\u001B[1;32m    208\u001B[0m     \u001B[38;5;28;01mwith\u001B[39;00m config_context(\n\u001B[1;32m    209\u001B[0m         skip_parameter_validation\u001B[38;5;241m=\u001B[39m(\n\u001B[1;32m    210\u001B[0m             prefer_skip_nested_validation \u001B[38;5;129;01mor\u001B[39;00m global_skip_validation\n\u001B[1;32m    211\u001B[0m         )\n\u001B[1;32m    212\u001B[0m     ):\n\u001B[0;32m--> 213\u001B[0m         \u001B[38;5;28;01mreturn\u001B[39;00m \u001B[43mfunc\u001B[49m\u001B[43m(\u001B[49m\u001B[38;5;241;43m*\u001B[39;49m\u001B[43margs\u001B[49m\u001B[43m,\u001B[49m\u001B[43m \u001B[49m\u001B[38;5;241;43m*\u001B[39;49m\u001B[38;5;241;43m*\u001B[39;49m\u001B[43mkwargs\u001B[49m\u001B[43m)\u001B[49m\n\u001B[1;32m    214\u001B[0m \u001B[38;5;28;01mexcept\u001B[39;00m InvalidParameterError \u001B[38;5;28;01mas\u001B[39;00m e:\n\u001B[1;32m    215\u001B[0m     \u001B[38;5;66;03m# When the function is just a wrapper around an estimator, we allow\u001B[39;00m\n\u001B[1;32m    216\u001B[0m     \u001B[38;5;66;03m# the function to delegate validation to the estimator, but we replace\u001B[39;00m\n\u001B[1;32m    217\u001B[0m     \u001B[38;5;66;03m# the name of the estimator by the name of the function in the error\u001B[39;00m\n\u001B[1;32m    218\u001B[0m     \u001B[38;5;66;03m# message to avoid confusion.\u001B[39;00m\n\u001B[1;32m    219\u001B[0m     msg \u001B[38;5;241m=\u001B[39m re\u001B[38;5;241m.\u001B[39msub(\n\u001B[1;32m    220\u001B[0m         \u001B[38;5;124mr\u001B[39m\u001B[38;5;124m\"\u001B[39m\u001B[38;5;124mparameter of \u001B[39m\u001B[38;5;124m\\\u001B[39m\u001B[38;5;124mw+ must be\u001B[39m\u001B[38;5;124m\"\u001B[39m,\n\u001B[1;32m    221\u001B[0m         \u001B[38;5;124mf\u001B[39m\u001B[38;5;124m\"\u001B[39m\u001B[38;5;124mparameter of \u001B[39m\u001B[38;5;132;01m{\u001B[39;00mfunc\u001B[38;5;241m.\u001B[39m\u001B[38;5;18m__qualname__\u001B[39m\u001B[38;5;132;01m}\u001B[39;00m\u001B[38;5;124m must be\u001B[39m\u001B[38;5;124m\"\u001B[39m,\n\u001B[1;32m    222\u001B[0m         \u001B[38;5;28mstr\u001B[39m(e),\n\u001B[1;32m    223\u001B[0m     )\n",
      "File \u001B[0;32m~/Library/Caches/pypoetry/virtualenvs/mammogram-pUfYuUpY-py3.11/lib/python3.11/site-packages/sklearn/model_selection/_validation.py:450\u001B[0m, in \u001B[0;36mcross_validate\u001B[0;34m(estimator, X, y, groups, scoring, cv, n_jobs, verbose, fit_params, params, pre_dispatch, return_train_score, return_estimator, return_indices, error_score)\u001B[0m\n\u001B[1;32m    429\u001B[0m parallel \u001B[38;5;241m=\u001B[39m Parallel(n_jobs\u001B[38;5;241m=\u001B[39mn_jobs, verbose\u001B[38;5;241m=\u001B[39mverbose, pre_dispatch\u001B[38;5;241m=\u001B[39mpre_dispatch)\n\u001B[1;32m    430\u001B[0m results \u001B[38;5;241m=\u001B[39m parallel(\n\u001B[1;32m    431\u001B[0m     delayed(_fit_and_score)(\n\u001B[1;32m    432\u001B[0m         clone(estimator),\n\u001B[0;32m   (...)\u001B[0m\n\u001B[1;32m    447\u001B[0m     \u001B[38;5;28;01mfor\u001B[39;00m train, test \u001B[38;5;129;01min\u001B[39;00m indices\n\u001B[1;32m    448\u001B[0m )\n\u001B[0;32m--> 450\u001B[0m \u001B[43m_warn_or_raise_about_fit_failures\u001B[49m\u001B[43m(\u001B[49m\u001B[43mresults\u001B[49m\u001B[43m,\u001B[49m\u001B[43m \u001B[49m\u001B[43merror_score\u001B[49m\u001B[43m)\u001B[49m\n\u001B[1;32m    452\u001B[0m \u001B[38;5;66;03m# For callable scoring, the return type is only know after calling. If the\u001B[39;00m\n\u001B[1;32m    453\u001B[0m \u001B[38;5;66;03m# return type is a dictionary, the error scores can now be inserted with\u001B[39;00m\n\u001B[1;32m    454\u001B[0m \u001B[38;5;66;03m# the correct key.\u001B[39;00m\n\u001B[1;32m    455\u001B[0m \u001B[38;5;28;01mif\u001B[39;00m \u001B[38;5;28mcallable\u001B[39m(scoring):\n",
      "File \u001B[0;32m~/Library/Caches/pypoetry/virtualenvs/mammogram-pUfYuUpY-py3.11/lib/python3.11/site-packages/sklearn/model_selection/_validation.py:536\u001B[0m, in \u001B[0;36m_warn_or_raise_about_fit_failures\u001B[0;34m(results, error_score)\u001B[0m\n\u001B[1;32m    529\u001B[0m \u001B[38;5;28;01mif\u001B[39;00m num_failed_fits \u001B[38;5;241m==\u001B[39m num_fits:\n\u001B[1;32m    530\u001B[0m     all_fits_failed_message \u001B[38;5;241m=\u001B[39m (\n\u001B[1;32m    531\u001B[0m         \u001B[38;5;124mf\u001B[39m\u001B[38;5;124m\"\u001B[39m\u001B[38;5;130;01m\\n\u001B[39;00m\u001B[38;5;124mAll the \u001B[39m\u001B[38;5;132;01m{\u001B[39;00mnum_fits\u001B[38;5;132;01m}\u001B[39;00m\u001B[38;5;124m fits failed.\u001B[39m\u001B[38;5;130;01m\\n\u001B[39;00m\u001B[38;5;124m\"\u001B[39m\n\u001B[1;32m    532\u001B[0m         \u001B[38;5;124m\"\u001B[39m\u001B[38;5;124mIt is very likely that your model is misconfigured.\u001B[39m\u001B[38;5;130;01m\\n\u001B[39;00m\u001B[38;5;124m\"\u001B[39m\n\u001B[1;32m    533\u001B[0m         \u001B[38;5;124m\"\u001B[39m\u001B[38;5;124mYou can try to debug the error by setting error_score=\u001B[39m\u001B[38;5;124m'\u001B[39m\u001B[38;5;124mraise\u001B[39m\u001B[38;5;124m'\u001B[39m\u001B[38;5;124m.\u001B[39m\u001B[38;5;130;01m\\n\u001B[39;00m\u001B[38;5;130;01m\\n\u001B[39;00m\u001B[38;5;124m\"\u001B[39m\n\u001B[1;32m    534\u001B[0m         \u001B[38;5;124mf\u001B[39m\u001B[38;5;124m\"\u001B[39m\u001B[38;5;124mBelow are more details about the failures:\u001B[39m\u001B[38;5;130;01m\\n\u001B[39;00m\u001B[38;5;132;01m{\u001B[39;00mfit_errors_summary\u001B[38;5;132;01m}\u001B[39;00m\u001B[38;5;124m\"\u001B[39m\n\u001B[1;32m    535\u001B[0m     )\n\u001B[0;32m--> 536\u001B[0m     \u001B[38;5;28;01mraise\u001B[39;00m \u001B[38;5;167;01mValueError\u001B[39;00m(all_fits_failed_message)\n\u001B[1;32m    538\u001B[0m \u001B[38;5;28;01melse\u001B[39;00m:\n\u001B[1;32m    539\u001B[0m     some_fits_failed_message \u001B[38;5;241m=\u001B[39m (\n\u001B[1;32m    540\u001B[0m         \u001B[38;5;124mf\u001B[39m\u001B[38;5;124m\"\u001B[39m\u001B[38;5;130;01m\\n\u001B[39;00m\u001B[38;5;132;01m{\u001B[39;00mnum_failed_fits\u001B[38;5;132;01m}\u001B[39;00m\u001B[38;5;124m fits failed out of a total of \u001B[39m\u001B[38;5;132;01m{\u001B[39;00mnum_fits\u001B[38;5;132;01m}\u001B[39;00m\u001B[38;5;124m.\u001B[39m\u001B[38;5;130;01m\\n\u001B[39;00m\u001B[38;5;124m\"\u001B[39m\n\u001B[1;32m    541\u001B[0m         \u001B[38;5;124m\"\u001B[39m\u001B[38;5;124mThe score on these train-test partitions for these parameters\u001B[39m\u001B[38;5;124m\"\u001B[39m\n\u001B[0;32m   (...)\u001B[0m\n\u001B[1;32m    545\u001B[0m         \u001B[38;5;124mf\u001B[39m\u001B[38;5;124m\"\u001B[39m\u001B[38;5;124mBelow are more details about the failures:\u001B[39m\u001B[38;5;130;01m\\n\u001B[39;00m\u001B[38;5;132;01m{\u001B[39;00mfit_errors_summary\u001B[38;5;132;01m}\u001B[39;00m\u001B[38;5;124m\"\u001B[39m\n\u001B[1;32m    546\u001B[0m     )\n",
      "\u001B[0;31mValueError\u001B[0m: \nAll the 10 fits failed.\nIt is very likely that your model is misconfigured.\nYou can try to debug the error by setting error_score='raise'.\n\nBelow are more details about the failures:\n--------------------------------------------------------------------------------\n1 fits failed with the following error:\nTraceback (most recent call last):\n  File \"/Users/andreysolera/Library/Caches/pypoetry/virtualenvs/mammogram-pUfYuUpY-py3.11/lib/python3.11/site-packages/sklearn/model_selection/_validation.py\", line 895, in _fit_and_score\n    estimator.fit(X_train, y_train, **fit_params)\n  File \"/Users/andreysolera/Library/Caches/pypoetry/virtualenvs/mammogram-pUfYuUpY-py3.11/lib/python3.11/site-packages/scikeras/wrappers.py\", line 1501, in fit\n    super().fit(X=X, y=y, sample_weight=sample_weight, **kwargs)\n  File \"/Users/andreysolera/Library/Caches/pypoetry/virtualenvs/mammogram-pUfYuUpY-py3.11/lib/python3.11/site-packages/scikeras/wrappers.py\", line 770, in fit\n    self._fit(\n  File \"/Users/andreysolera/Library/Caches/pypoetry/virtualenvs/mammogram-pUfYuUpY-py3.11/lib/python3.11/site-packages/scikeras/wrappers.py\", line 936, in _fit\n    self._check_model_compatibility(y)\n  File \"/Users/andreysolera/Library/Caches/pypoetry/virtualenvs/mammogram-pUfYuUpY-py3.11/lib/python3.11/site-packages/scikeras/wrappers.py\", line 559, in _check_model_compatibility\n    if self.n_outputs_expected_ != len(self.model_.outputs):\n                                       ^^^^^^^^^^^^^^^^^^^\n  File \"/Users/andreysolera/Library/Caches/pypoetry/virtualenvs/mammogram-pUfYuUpY-py3.11/lib/python3.11/site-packages/keras/src/models/sequential.py\", line 283, in outputs\n    raise ValueError(\nValueError: Sequential model 'sequential_50' has no defined outputs yet.\n\n--------------------------------------------------------------------------------\n1 fits failed with the following error:\nTraceback (most recent call last):\n  File \"/Users/andreysolera/Library/Caches/pypoetry/virtualenvs/mammogram-pUfYuUpY-py3.11/lib/python3.11/site-packages/sklearn/model_selection/_validation.py\", line 895, in _fit_and_score\n    estimator.fit(X_train, y_train, **fit_params)\n  File \"/Users/andreysolera/Library/Caches/pypoetry/virtualenvs/mammogram-pUfYuUpY-py3.11/lib/python3.11/site-packages/scikeras/wrappers.py\", line 1501, in fit\n    super().fit(X=X, y=y, sample_weight=sample_weight, **kwargs)\n  File \"/Users/andreysolera/Library/Caches/pypoetry/virtualenvs/mammogram-pUfYuUpY-py3.11/lib/python3.11/site-packages/scikeras/wrappers.py\", line 770, in fit\n    self._fit(\n  File \"/Users/andreysolera/Library/Caches/pypoetry/virtualenvs/mammogram-pUfYuUpY-py3.11/lib/python3.11/site-packages/scikeras/wrappers.py\", line 936, in _fit\n    self._check_model_compatibility(y)\n  File \"/Users/andreysolera/Library/Caches/pypoetry/virtualenvs/mammogram-pUfYuUpY-py3.11/lib/python3.11/site-packages/scikeras/wrappers.py\", line 559, in _check_model_compatibility\n    if self.n_outputs_expected_ != len(self.model_.outputs):\n                                       ^^^^^^^^^^^^^^^^^^^\n  File \"/Users/andreysolera/Library/Caches/pypoetry/virtualenvs/mammogram-pUfYuUpY-py3.11/lib/python3.11/site-packages/keras/src/models/sequential.py\", line 283, in outputs\n    raise ValueError(\nValueError: Sequential model 'sequential_51' has no defined outputs yet.\n\n--------------------------------------------------------------------------------\n1 fits failed with the following error:\nTraceback (most recent call last):\n  File \"/Users/andreysolera/Library/Caches/pypoetry/virtualenvs/mammogram-pUfYuUpY-py3.11/lib/python3.11/site-packages/sklearn/model_selection/_validation.py\", line 895, in _fit_and_score\n    estimator.fit(X_train, y_train, **fit_params)\n  File \"/Users/andreysolera/Library/Caches/pypoetry/virtualenvs/mammogram-pUfYuUpY-py3.11/lib/python3.11/site-packages/scikeras/wrappers.py\", line 1501, in fit\n    super().fit(X=X, y=y, sample_weight=sample_weight, **kwargs)\n  File \"/Users/andreysolera/Library/Caches/pypoetry/virtualenvs/mammogram-pUfYuUpY-py3.11/lib/python3.11/site-packages/scikeras/wrappers.py\", line 770, in fit\n    self._fit(\n  File \"/Users/andreysolera/Library/Caches/pypoetry/virtualenvs/mammogram-pUfYuUpY-py3.11/lib/python3.11/site-packages/scikeras/wrappers.py\", line 936, in _fit\n    self._check_model_compatibility(y)\n  File \"/Users/andreysolera/Library/Caches/pypoetry/virtualenvs/mammogram-pUfYuUpY-py3.11/lib/python3.11/site-packages/scikeras/wrappers.py\", line 559, in _check_model_compatibility\n    if self.n_outputs_expected_ != len(self.model_.outputs):\n                                       ^^^^^^^^^^^^^^^^^^^\n  File \"/Users/andreysolera/Library/Caches/pypoetry/virtualenvs/mammogram-pUfYuUpY-py3.11/lib/python3.11/site-packages/keras/src/models/sequential.py\", line 283, in outputs\n    raise ValueError(\nValueError: Sequential model 'sequential_52' has no defined outputs yet.\n\n--------------------------------------------------------------------------------\n1 fits failed with the following error:\nTraceback (most recent call last):\n  File \"/Users/andreysolera/Library/Caches/pypoetry/virtualenvs/mammogram-pUfYuUpY-py3.11/lib/python3.11/site-packages/sklearn/model_selection/_validation.py\", line 895, in _fit_and_score\n    estimator.fit(X_train, y_train, **fit_params)\n  File \"/Users/andreysolera/Library/Caches/pypoetry/virtualenvs/mammogram-pUfYuUpY-py3.11/lib/python3.11/site-packages/scikeras/wrappers.py\", line 1501, in fit\n    super().fit(X=X, y=y, sample_weight=sample_weight, **kwargs)\n  File \"/Users/andreysolera/Library/Caches/pypoetry/virtualenvs/mammogram-pUfYuUpY-py3.11/lib/python3.11/site-packages/scikeras/wrappers.py\", line 770, in fit\n    self._fit(\n  File \"/Users/andreysolera/Library/Caches/pypoetry/virtualenvs/mammogram-pUfYuUpY-py3.11/lib/python3.11/site-packages/scikeras/wrappers.py\", line 936, in _fit\n    self._check_model_compatibility(y)\n  File \"/Users/andreysolera/Library/Caches/pypoetry/virtualenvs/mammogram-pUfYuUpY-py3.11/lib/python3.11/site-packages/scikeras/wrappers.py\", line 559, in _check_model_compatibility\n    if self.n_outputs_expected_ != len(self.model_.outputs):\n                                       ^^^^^^^^^^^^^^^^^^^\n  File \"/Users/andreysolera/Library/Caches/pypoetry/virtualenvs/mammogram-pUfYuUpY-py3.11/lib/python3.11/site-packages/keras/src/models/sequential.py\", line 283, in outputs\n    raise ValueError(\nValueError: Sequential model 'sequential_53' has no defined outputs yet.\n\n--------------------------------------------------------------------------------\n1 fits failed with the following error:\nTraceback (most recent call last):\n  File \"/Users/andreysolera/Library/Caches/pypoetry/virtualenvs/mammogram-pUfYuUpY-py3.11/lib/python3.11/site-packages/sklearn/model_selection/_validation.py\", line 895, in _fit_and_score\n    estimator.fit(X_train, y_train, **fit_params)\n  File \"/Users/andreysolera/Library/Caches/pypoetry/virtualenvs/mammogram-pUfYuUpY-py3.11/lib/python3.11/site-packages/scikeras/wrappers.py\", line 1501, in fit\n    super().fit(X=X, y=y, sample_weight=sample_weight, **kwargs)\n  File \"/Users/andreysolera/Library/Caches/pypoetry/virtualenvs/mammogram-pUfYuUpY-py3.11/lib/python3.11/site-packages/scikeras/wrappers.py\", line 770, in fit\n    self._fit(\n  File \"/Users/andreysolera/Library/Caches/pypoetry/virtualenvs/mammogram-pUfYuUpY-py3.11/lib/python3.11/site-packages/scikeras/wrappers.py\", line 936, in _fit\n    self._check_model_compatibility(y)\n  File \"/Users/andreysolera/Library/Caches/pypoetry/virtualenvs/mammogram-pUfYuUpY-py3.11/lib/python3.11/site-packages/scikeras/wrappers.py\", line 559, in _check_model_compatibility\n    if self.n_outputs_expected_ != len(self.model_.outputs):\n                                       ^^^^^^^^^^^^^^^^^^^\n  File \"/Users/andreysolera/Library/Caches/pypoetry/virtualenvs/mammogram-pUfYuUpY-py3.11/lib/python3.11/site-packages/keras/src/models/sequential.py\", line 283, in outputs\n    raise ValueError(\nValueError: Sequential model 'sequential_54' has no defined outputs yet.\n\n--------------------------------------------------------------------------------\n1 fits failed with the following error:\nTraceback (most recent call last):\n  File \"/Users/andreysolera/Library/Caches/pypoetry/virtualenvs/mammogram-pUfYuUpY-py3.11/lib/python3.11/site-packages/sklearn/model_selection/_validation.py\", line 895, in _fit_and_score\n    estimator.fit(X_train, y_train, **fit_params)\n  File \"/Users/andreysolera/Library/Caches/pypoetry/virtualenvs/mammogram-pUfYuUpY-py3.11/lib/python3.11/site-packages/scikeras/wrappers.py\", line 1501, in fit\n    super().fit(X=X, y=y, sample_weight=sample_weight, **kwargs)\n  File \"/Users/andreysolera/Library/Caches/pypoetry/virtualenvs/mammogram-pUfYuUpY-py3.11/lib/python3.11/site-packages/scikeras/wrappers.py\", line 770, in fit\n    self._fit(\n  File \"/Users/andreysolera/Library/Caches/pypoetry/virtualenvs/mammogram-pUfYuUpY-py3.11/lib/python3.11/site-packages/scikeras/wrappers.py\", line 936, in _fit\n    self._check_model_compatibility(y)\n  File \"/Users/andreysolera/Library/Caches/pypoetry/virtualenvs/mammogram-pUfYuUpY-py3.11/lib/python3.11/site-packages/scikeras/wrappers.py\", line 559, in _check_model_compatibility\n    if self.n_outputs_expected_ != len(self.model_.outputs):\n                                       ^^^^^^^^^^^^^^^^^^^\n  File \"/Users/andreysolera/Library/Caches/pypoetry/virtualenvs/mammogram-pUfYuUpY-py3.11/lib/python3.11/site-packages/keras/src/models/sequential.py\", line 283, in outputs\n    raise ValueError(\nValueError: Sequential model 'sequential_55' has no defined outputs yet.\n\n--------------------------------------------------------------------------------\n1 fits failed with the following error:\nTraceback (most recent call last):\n  File \"/Users/andreysolera/Library/Caches/pypoetry/virtualenvs/mammogram-pUfYuUpY-py3.11/lib/python3.11/site-packages/sklearn/model_selection/_validation.py\", line 895, in _fit_and_score\n    estimator.fit(X_train, y_train, **fit_params)\n  File \"/Users/andreysolera/Library/Caches/pypoetry/virtualenvs/mammogram-pUfYuUpY-py3.11/lib/python3.11/site-packages/scikeras/wrappers.py\", line 1501, in fit\n    super().fit(X=X, y=y, sample_weight=sample_weight, **kwargs)\n  File \"/Users/andreysolera/Library/Caches/pypoetry/virtualenvs/mammogram-pUfYuUpY-py3.11/lib/python3.11/site-packages/scikeras/wrappers.py\", line 770, in fit\n    self._fit(\n  File \"/Users/andreysolera/Library/Caches/pypoetry/virtualenvs/mammogram-pUfYuUpY-py3.11/lib/python3.11/site-packages/scikeras/wrappers.py\", line 936, in _fit\n    self._check_model_compatibility(y)\n  File \"/Users/andreysolera/Library/Caches/pypoetry/virtualenvs/mammogram-pUfYuUpY-py3.11/lib/python3.11/site-packages/scikeras/wrappers.py\", line 559, in _check_model_compatibility\n    if self.n_outputs_expected_ != len(self.model_.outputs):\n                                       ^^^^^^^^^^^^^^^^^^^\n  File \"/Users/andreysolera/Library/Caches/pypoetry/virtualenvs/mammogram-pUfYuUpY-py3.11/lib/python3.11/site-packages/keras/src/models/sequential.py\", line 283, in outputs\n    raise ValueError(\nValueError: Sequential model 'sequential_56' has no defined outputs yet.\n\n--------------------------------------------------------------------------------\n1 fits failed with the following error:\nTraceback (most recent call last):\n  File \"/Users/andreysolera/Library/Caches/pypoetry/virtualenvs/mammogram-pUfYuUpY-py3.11/lib/python3.11/site-packages/sklearn/model_selection/_validation.py\", line 895, in _fit_and_score\n    estimator.fit(X_train, y_train, **fit_params)\n  File \"/Users/andreysolera/Library/Caches/pypoetry/virtualenvs/mammogram-pUfYuUpY-py3.11/lib/python3.11/site-packages/scikeras/wrappers.py\", line 1501, in fit\n    super().fit(X=X, y=y, sample_weight=sample_weight, **kwargs)\n  File \"/Users/andreysolera/Library/Caches/pypoetry/virtualenvs/mammogram-pUfYuUpY-py3.11/lib/python3.11/site-packages/scikeras/wrappers.py\", line 770, in fit\n    self._fit(\n  File \"/Users/andreysolera/Library/Caches/pypoetry/virtualenvs/mammogram-pUfYuUpY-py3.11/lib/python3.11/site-packages/scikeras/wrappers.py\", line 936, in _fit\n    self._check_model_compatibility(y)\n  File \"/Users/andreysolera/Library/Caches/pypoetry/virtualenvs/mammogram-pUfYuUpY-py3.11/lib/python3.11/site-packages/scikeras/wrappers.py\", line 559, in _check_model_compatibility\n    if self.n_outputs_expected_ != len(self.model_.outputs):\n                                       ^^^^^^^^^^^^^^^^^^^\n  File \"/Users/andreysolera/Library/Caches/pypoetry/virtualenvs/mammogram-pUfYuUpY-py3.11/lib/python3.11/site-packages/keras/src/models/sequential.py\", line 283, in outputs\n    raise ValueError(\nValueError: Sequential model 'sequential_57' has no defined outputs yet.\n\n--------------------------------------------------------------------------------\n1 fits failed with the following error:\nTraceback (most recent call last):\n  File \"/Users/andreysolera/Library/Caches/pypoetry/virtualenvs/mammogram-pUfYuUpY-py3.11/lib/python3.11/site-packages/sklearn/model_selection/_validation.py\", line 895, in _fit_and_score\n    estimator.fit(X_train, y_train, **fit_params)\n  File \"/Users/andreysolera/Library/Caches/pypoetry/virtualenvs/mammogram-pUfYuUpY-py3.11/lib/python3.11/site-packages/scikeras/wrappers.py\", line 1501, in fit\n    super().fit(X=X, y=y, sample_weight=sample_weight, **kwargs)\n  File \"/Users/andreysolera/Library/Caches/pypoetry/virtualenvs/mammogram-pUfYuUpY-py3.11/lib/python3.11/site-packages/scikeras/wrappers.py\", line 770, in fit\n    self._fit(\n  File \"/Users/andreysolera/Library/Caches/pypoetry/virtualenvs/mammogram-pUfYuUpY-py3.11/lib/python3.11/site-packages/scikeras/wrappers.py\", line 936, in _fit\n    self._check_model_compatibility(y)\n  File \"/Users/andreysolera/Library/Caches/pypoetry/virtualenvs/mammogram-pUfYuUpY-py3.11/lib/python3.11/site-packages/scikeras/wrappers.py\", line 559, in _check_model_compatibility\n    if self.n_outputs_expected_ != len(self.model_.outputs):\n                                       ^^^^^^^^^^^^^^^^^^^\n  File \"/Users/andreysolera/Library/Caches/pypoetry/virtualenvs/mammogram-pUfYuUpY-py3.11/lib/python3.11/site-packages/keras/src/models/sequential.py\", line 283, in outputs\n    raise ValueError(\nValueError: Sequential model 'sequential_58' has no defined outputs yet.\n\n--------------------------------------------------------------------------------\n1 fits failed with the following error:\nTraceback (most recent call last):\n  File \"/Users/andreysolera/Library/Caches/pypoetry/virtualenvs/mammogram-pUfYuUpY-py3.11/lib/python3.11/site-packages/sklearn/model_selection/_validation.py\", line 895, in _fit_and_score\n    estimator.fit(X_train, y_train, **fit_params)\n  File \"/Users/andreysolera/Library/Caches/pypoetry/virtualenvs/mammogram-pUfYuUpY-py3.11/lib/python3.11/site-packages/scikeras/wrappers.py\", line 1501, in fit\n    super().fit(X=X, y=y, sample_weight=sample_weight, **kwargs)\n  File \"/Users/andreysolera/Library/Caches/pypoetry/virtualenvs/mammogram-pUfYuUpY-py3.11/lib/python3.11/site-packages/scikeras/wrappers.py\", line 770, in fit\n    self._fit(\n  File \"/Users/andreysolera/Library/Caches/pypoetry/virtualenvs/mammogram-pUfYuUpY-py3.11/lib/python3.11/site-packages/scikeras/wrappers.py\", line 936, in _fit\n    self._check_model_compatibility(y)\n  File \"/Users/andreysolera/Library/Caches/pypoetry/virtualenvs/mammogram-pUfYuUpY-py3.11/lib/python3.11/site-packages/scikeras/wrappers.py\", line 559, in _check_model_compatibility\n    if self.n_outputs_expected_ != len(self.model_.outputs):\n                                       ^^^^^^^^^^^^^^^^^^^\n  File \"/Users/andreysolera/Library/Caches/pypoetry/virtualenvs/mammogram-pUfYuUpY-py3.11/lib/python3.11/site-packages/keras/src/models/sequential.py\", line 283, in outputs\n    raise ValueError(\nValueError: Sequential model 'sequential_59' has no defined outputs yet.\n"
     ]
    }
   ],
   "execution_count": 26
  },
  {
   "metadata": {
    "ExecuteTime": {
     "end_time": "2024-05-02T22:10:44.003605Z",
     "start_time": "2024-05-02T22:10:43.997459Z"
    }
   },
   "cell_type": "code",
   "source": "cv_scores.shape",
   "id": "1f13eb6f5910f5f4",
   "outputs": [
    {
     "data": {
      "text/plain": [
       "(10,)"
      ]
     },
     "execution_count": 28,
     "metadata": {},
     "output_type": "execute_result"
    }
   ],
   "execution_count": 28
  },
  {
   "metadata": {
    "ExecuteTime": {
     "end_time": "2024-05-02T22:11:18.084550Z",
     "start_time": "2024-05-02T22:11:18.079938Z"
    }
   },
   "cell_type": "code",
   "source": "cv_scores.mean()",
   "id": "e691d845dc4be20e",
   "outputs": [
    {
     "data": {
      "text/plain": [
       "0.8024096385542169"
      ]
     },
     "execution_count": 29,
     "metadata": {},
     "output_type": "execute_result"
    }
   ],
   "execution_count": 29
  },
  {
   "metadata": {},
   "cell_type": "code",
   "outputs": [],
   "execution_count": null,
   "source": "",
   "id": "101dec911d82144c"
  }
 ],
 "metadata": {
  "kernelspec": {
   "display_name": "Python 3",
   "language": "python",
   "name": "python3"
  },
  "language_info": {
   "codemirror_mode": {
    "name": "ipython",
    "version": 2
   },
   "file_extension": ".py",
   "mimetype": "text/x-python",
   "name": "python",
   "nbconvert_exporter": "python",
   "pygments_lexer": "ipython2",
   "version": "2.7.6"
  }
 },
 "nbformat": 4,
 "nbformat_minor": 5
}
